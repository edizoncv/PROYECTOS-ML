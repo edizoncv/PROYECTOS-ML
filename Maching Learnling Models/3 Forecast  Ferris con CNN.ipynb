{
 "cells": [
  {
   "cell_type": "code",
   "execution_count": 1,
   "metadata": {
    "executionInfo": {
     "elapsed": 3061,
     "status": "ok",
     "timestamp": 1628307147982,
     "user": {
      "displayName": "orlando belli",
      "photoUrl": "https://lh3.googleusercontent.com/a-/AOh14GjEYipEc8UYvi9I0KWDDIN3LXw_BByHVyiM2iLBKQ=s64",
      "userId": "16331666692442260184"
     },
     "user_tz": 300
    },
    "id": "liMvsOfrTnxI"
   },
   "outputs": [],
   "source": [
    "# cargamos las librerias a utilizar\n",
    "\n",
    "import pandas as pd\n",
    "import numpy as np\n",
    "import matplotlib.pylab as plt\n",
    "from sklearn.preprocessing import MinMaxScaler\n",
    "\n",
    "from keras.models import Sequential\n",
    "from keras.layers import Dense,Activation,Flatten\n",
    "from keras.layers.convolutional import Conv1D\n",
    "from keras.layers.convolutional import MaxPooling1D\n"
   ]
  },
  {
   "cell_type": "code",
   "execution_count": 2,
   "metadata": {
    "executionInfo": {
     "elapsed": 282,
     "status": "ok",
     "timestamp": 1628307153610,
     "user": {
      "displayName": "orlando belli",
      "photoUrl": "https://lh3.googleusercontent.com/a-/AOh14GjEYipEc8UYvi9I0KWDDIN3LXw_BByHVyiM2iLBKQ=s64",
      "userId": "16331666692442260184"
     },
     "user_tz": 300
    },
    "id": "It0QFxXux7HD"
   },
   "outputs": [],
   "source": [
    "# esta celda sirve para dar permiso al accedo de tus archivos del gdrive\n",
    "link ='https://docs.google.com/spreadsheets/d/e/2PACX-1vTRmmsm3qKHPv04W2q5Vp57bVLa6tc706boLNhS7mVtH1hh4gpkAfRT7d1XsQYd1g/pub?gid=145097224&single=true&output=csv'"
   ]
  },
  {
   "cell_type": "code",
   "execution_count": 3,
   "metadata": {
    "colab": {
     "base_uri": "https://localhost:8080/",
     "height": 206
    },
    "executionInfo": {
     "elapsed": 1083,
     "status": "ok",
     "timestamp": 1628307157201,
     "user": {
      "displayName": "orlando belli",
      "photoUrl": "https://lh3.googleusercontent.com/a-/AOh14GjEYipEc8UYvi9I0KWDDIN3LXw_BByHVyiM2iLBKQ=s64",
      "userId": "16331666692442260184"
     },
     "user_tz": 300
    },
    "id": "1mQS7xrtx5IX",
    "outputId": "7f2dc9ae-a994-49bd-dde1-78c9bf42a7b4"
   },
   "outputs": [
    {
     "data": {
      "text/html": [
       "<div>\n",
       "<style scoped>\n",
       "    .dataframe tbody tr th:only-of-type {\n",
       "        vertical-align: middle;\n",
       "    }\n",
       "\n",
       "    .dataframe tbody tr th {\n",
       "        vertical-align: top;\n",
       "    }\n",
       "\n",
       "    .dataframe thead th {\n",
       "        text-align: right;\n",
       "    }\n",
       "</style>\n",
       "<table border=\"1\" class=\"dataframe\">\n",
       "  <thead>\n",
       "    <tr style=\"text-align: right;\">\n",
       "      <th></th>\n",
       "      <th>timestamp</th>\n",
       "      <th>demand</th>\n",
       "    </tr>\n",
       "  </thead>\n",
       "  <tbody>\n",
       "    <tr>\n",
       "      <th>0</th>\n",
       "      <td>1964-01-01</td>\n",
       "      <td>2815</td>\n",
       "    </tr>\n",
       "    <tr>\n",
       "      <th>1</th>\n",
       "      <td>1964-02-01</td>\n",
       "      <td>2672</td>\n",
       "    </tr>\n",
       "    <tr>\n",
       "      <th>2</th>\n",
       "      <td>1964-03-01</td>\n",
       "      <td>2755</td>\n",
       "    </tr>\n",
       "    <tr>\n",
       "      <th>3</th>\n",
       "      <td>1964-04-01</td>\n",
       "      <td>2721</td>\n",
       "    </tr>\n",
       "    <tr>\n",
       "      <th>4</th>\n",
       "      <td>1964-05-01</td>\n",
       "      <td>2946</td>\n",
       "    </tr>\n",
       "  </tbody>\n",
       "</table>\n",
       "</div>"
      ],
      "text/plain": [
       "    timestamp  demand\n",
       "0  1964-01-01    2815\n",
       "1  1964-02-01    2672\n",
       "2  1964-03-01    2755\n",
       "3  1964-04-01    2721\n",
       "4  1964-05-01    2946"
      ]
     },
     "execution_count": 3,
     "metadata": {},
     "output_type": "execute_result"
    }
   ],
   "source": [
    "df = pd.read_csv(link)\n",
    "df.head()"
   ]
  },
  {
   "cell_type": "code",
   "execution_count": 4,
   "metadata": {
    "colab": {
     "base_uri": "https://localhost:8080/",
     "height": 237
    },
    "executionInfo": {
     "elapsed": 487,
     "status": "ok",
     "timestamp": 1628307188737,
     "user": {
      "displayName": "orlando belli",
      "photoUrl": "https://lh3.googleusercontent.com/a-/AOh14GjEYipEc8UYvi9I0KWDDIN3LXw_BByHVyiM2iLBKQ=s64",
      "userId": "16331666692442260184"
     },
     "user_tz": 300
    },
    "id": "KWEUapBKZ1pM",
    "outputId": "98315750-1016-4cef-9ae5-1aeb659254cb"
   },
   "outputs": [
    {
     "data": {
      "text/html": [
       "<div>\n",
       "<style scoped>\n",
       "    .dataframe tbody tr th:only-of-type {\n",
       "        vertical-align: middle;\n",
       "    }\n",
       "\n",
       "    .dataframe tbody tr th {\n",
       "        vertical-align: top;\n",
       "    }\n",
       "\n",
       "    .dataframe thead th {\n",
       "        text-align: right;\n",
       "    }\n",
       "</style>\n",
       "<table border=\"1\" class=\"dataframe\">\n",
       "  <thead>\n",
       "    <tr style=\"text-align: right;\">\n",
       "      <th></th>\n",
       "      <th>demand</th>\n",
       "    </tr>\n",
       "    <tr>\n",
       "      <th>timestamp</th>\n",
       "      <th></th>\n",
       "    </tr>\n",
       "  </thead>\n",
       "  <tbody>\n",
       "    <tr>\n",
       "      <th>1964-01-01</th>\n",
       "      <td>2815</td>\n",
       "    </tr>\n",
       "    <tr>\n",
       "      <th>1964-02-01</th>\n",
       "      <td>2672</td>\n",
       "    </tr>\n",
       "    <tr>\n",
       "      <th>1964-03-01</th>\n",
       "      <td>2755</td>\n",
       "    </tr>\n",
       "    <tr>\n",
       "      <th>1964-04-01</th>\n",
       "      <td>2721</td>\n",
       "    </tr>\n",
       "    <tr>\n",
       "      <th>1964-05-01</th>\n",
       "      <td>2946</td>\n",
       "    </tr>\n",
       "  </tbody>\n",
       "</table>\n",
       "</div>"
      ],
      "text/plain": [
       "            demand\n",
       "timestamp         \n",
       "1964-01-01    2815\n",
       "1964-02-01    2672\n",
       "1964-03-01    2755\n",
       "1964-04-01    2721\n",
       "1964-05-01    2946"
      ]
     },
     "execution_count": 4,
     "metadata": {},
     "output_type": "execute_result"
    }
   ],
   "source": [
    "# colocar el campo fecha como indice\n",
    "\n",
    "df = df.set_index('timestamp')\n",
    "df.head()"
   ]
  },
  {
   "cell_type": "code",
   "execution_count": 5,
   "metadata": {
    "executionInfo": {
     "elapsed": 275,
     "status": "ok",
     "timestamp": 1628307212738,
     "user": {
      "displayName": "orlando belli",
      "photoUrl": "https://lh3.googleusercontent.com/a-/AOh14GjEYipEc8UYvi9I0KWDDIN3LXw_BByHVyiM2iLBKQ=s64",
      "userId": "16331666692442260184"
     },
     "user_tz": 300
    },
    "id": "pQ5ijCOIi-Rv"
   },
   "outputs": [],
   "source": [
    "# seleccionamos las variables de interés\n",
    "\n",
    "dataset = df.values"
   ]
  },
  {
   "cell_type": "code",
   "execution_count": 6,
   "metadata": {
    "colab": {
     "base_uri": "https://localhost:8080/",
     "height": 283
    },
    "executionInfo": {
     "elapsed": 632,
     "status": "ok",
     "timestamp": 1628307249866,
     "user": {
      "displayName": "orlando belli",
      "photoUrl": "https://lh3.googleusercontent.com/a-/AOh14GjEYipEc8UYvi9I0KWDDIN3LXw_BByHVyiM2iLBKQ=s64",
      "userId": "16331666692442260184"
     },
     "user_tz": 300
    },
    "id": "qbT7Z2JuUcnn",
    "outputId": "757e0a85-8e73-46a5-b554-8dce315cdade"
   },
   "outputs": [
    {
     "data": {
      "text/plain": [
       "[<matplotlib.lines.Line2D at 0x15114ec1e50>]"
      ]
     },
     "execution_count": 6,
     "metadata": {},
     "output_type": "execute_result"
    },
    {
     "data": {
      "image/png": "[encoded data removed]",
      "text/plain": [
       "<Figure size 432x288 with 1 Axes>"
      ]
     },
     "metadata": {
      "needs_background": "light"
     },
     "output_type": "display_data"
    }
   ],
   "source": [
    "# redimensionando la variable en vector columna reshape (-1,1)\n",
    "# luego se plotea\n",
    "\n",
    "dataset = dataset.reshape(-1,1)\n",
    "plt.plot(dataset)"
   ]
  },
  {
   "cell_type": "markdown",
   "metadata": {
    "id": "OwVlBBtKjnS-"
   },
   "source": [
    "MIN_MAX_Scaler"
   ]
  },
  {
   "cell_type": "code",
   "execution_count": 7,
   "metadata": {
    "executionInfo": {
     "elapsed": 302,
     "status": "ok",
     "timestamp": 1628307368109,
     "user": {
      "displayName": "orlando belli",
      "photoUrl": "https://lh3.googleusercontent.com/a-/AOh14GjEYipEc8UYvi9I0KWDDIN3LXw_BByHVyiM2iLBKQ=s64",
      "userId": "16331666692442260184"
     },
     "user_tz": 300
    },
    "id": "__vbFH7LUbcD"
   },
   "outputs": [],
   "source": [
    "# escalando datos\n",
    "from sklearn.preprocessing import MinMaxScaler\n",
    "from sklearn.metrics import mean_squared_error\n",
    "\n",
    "dataset = dataset.astype('float32')\n",
    "scaler = MinMaxScaler(feature_range = (0,1))\n",
    "dataset = scaler.fit_transform(dataset)"
   ]
  },
  {
   "cell_type": "markdown",
   "metadata": {
    "id": "ha9wPKGNrsOn"
   },
   "source": [
    "Creando los conjuntos de entrenamiento y testing"
   ]
  },
  {
   "cell_type": "code",
   "execution_count": 8,
   "metadata": {
    "executionInfo": {
     "elapsed": 290,
     "status": "ok",
     "timestamp": 1628307408700,
     "user": {
      "displayName": "orlando belli",
      "photoUrl": "https://lh3.googleusercontent.com/a-/AOh14GjEYipEc8UYvi9I0KWDDIN3LXw_BByHVyiM2iLBKQ=s64",
      "userId": "16331666692442260184"
     },
     "user_tz": 300
    },
    "id": "nHucbTgnxwfe"
   },
   "outputs": [],
   "source": [
    "# train_test_split\n",
    "\n",
    "train_size = int(len(dataset) * 0.80)\n",
    "test_size = len(dataset) - train_size\n",
    "train, test = dataset[0:train_size,:], dataset[train_size:len(dataset),:]"
   ]
  },
  {
   "cell_type": "markdown",
   "metadata": {
    "id": "q69NRTdur1UG"
   },
   "source": [
    "Crear la función que transforma el vector de la serie en una matriz"
   ]
  },
  {
   "cell_type": "code",
   "execution_count": 9,
   "metadata": {
    "executionInfo": {
     "elapsed": 296,
     "status": "ok",
     "timestamp": 1628307433027,
     "user": {
      "displayName": "orlando belli",
      "photoUrl": "https://lh3.googleusercontent.com/a-/AOh14GjEYipEc8UYvi9I0KWDDIN3LXw_BByHVyiM2iLBKQ=s64",
      "userId": "16331666692442260184"
     },
     "user_tz": 300
    },
    "id": "t-mfMApjxyXN"
   },
   "outputs": [],
   "source": [
    "# función que convierte a array\n",
    "\n",
    "def to_sequences(dataset, seq_size = 1):\n",
    "    x=[]\n",
    "    y=[]\n",
    "    \n",
    "    for i in range(len(dataset) - seq_size-1):\n",
    "        window = dataset[i:(i+seq_size),0]\n",
    "        x.append(window)\n",
    "        y.append(dataset[i+seq_size,0])\n",
    "    \n",
    "    return np.array(x),np.array(y)"
   ]
  },
  {
   "cell_type": "markdown",
   "metadata": {
    "id": "vEerFRNGr-Ly"
   },
   "source": [
    "Utilizamos la función en la data train - test"
   ]
  },
  {
   "cell_type": "code",
   "execution_count": 10,
   "metadata": {
    "executionInfo": {
     "elapsed": 343,
     "status": "ok",
     "timestamp": 1628307512938,
     "user": {
      "displayName": "orlando belli",
      "photoUrl": "https://lh3.googleusercontent.com/a-/AOh14GjEYipEc8UYvi9I0KWDDIN3LXw_BByHVyiM2iLBKQ=s64",
      "userId": "16331666692442260184"
     },
     "user_tz": 300
    },
    "id": "N8T_yAMXxzGP"
   },
   "outputs": [],
   "source": [
    "# seq_size es el número de columnas que tendrá la matriz : timesteps\n",
    "\n",
    "seq_size = 12\n",
    "\n",
    "trainX, trainY = to_sequences(train,seq_size)\n",
    "testX, testY = to_sequences(test,seq_size)"
   ]
  },
  {
   "cell_type": "code",
   "execution_count": 11,
   "metadata": {
    "colab": {
     "base_uri": "https://localhost:8080/"
    },
    "executionInfo": {
     "elapsed": 288,
     "status": "ok",
     "timestamp": 1628307530172,
     "user": {
      "displayName": "orlando belli",
      "photoUrl": "https://lh3.googleusercontent.com/a-/AOh14GjEYipEc8UYvi9I0KWDDIN3LXw_BByHVyiM2iLBKQ=s64",
      "userId": "16331666692442260184"
     },
     "user_tz": 300
    },
    "id": "p__laXwxxzI9",
    "outputId": "072aec31-ce16-4e3e-f197-2fd0add92aee"
   },
   "outputs": [
    {
     "name": "stdout",
     "output_type": "stream",
     "text": [
      "(71, 12)\n",
      "(8, 12)\n"
     ]
    }
   ],
   "source": [
    "# verificamos las dimensiones de tabla plana\n",
    "\n",
    "print(trainX.shape)\n",
    "print(testX.shape)"
   ]
  },
  {
   "cell_type": "markdown",
   "metadata": {
    "id": "WgUjxXwYsTV2"
   },
   "source": [
    "Convertimos las tablas planas a tensores 3D"
   ]
  },
  {
   "cell_type": "code",
   "execution_count": 12,
   "metadata": {
    "colab": {
     "base_uri": "https://localhost:8080/"
    },
    "executionInfo": {
     "elapsed": 271,
     "status": "ok",
     "timestamp": 1628307547177,
     "user": {
      "displayName": "orlando belli",
      "photoUrl": "https://lh3.googleusercontent.com/a-/AOh14GjEYipEc8UYvi9I0KWDDIN3LXw_BByHVyiM2iLBKQ=s64",
      "userId": "16331666692442260184"
     },
     "user_tz": 300
    },
    "id": "vHM-dkVoxzLW",
    "outputId": "b3ee031e-f418-4580-9bf2-902a2bf8d007"
   },
   "outputs": [
    {
     "name": "stdout",
     "output_type": "stream",
     "text": [
      "(71, 12, 1) (8, 12, 1)\n"
     ]
    }
   ],
   "source": [
    "# redimensionando los inputs para la CNN\n",
    "\n",
    "# reshape from [samples, timesteps] into [samples, timesteps, features]\n",
    "trainX = trainX.reshape((trainX.shape[0], trainX.shape[1], 1))\n",
    "testX = testX.reshape((testX.shape[0], testX.shape[1], 1))\n",
    "\n",
    "print(trainX.shape, testX.shape)"
   ]
  },
  {
   "cell_type": "code",
   "execution_count": 13,
   "metadata": {
    "executionInfo": {
     "elapsed": 742,
     "status": "ok",
     "timestamp": 1628307561523,
     "user": {
      "displayName": "orlando belli",
      "photoUrl": "https://lh3.googleusercontent.com/a-/AOh14GjEYipEc8UYvi9I0KWDDIN3LXw_BByHVyiM2iLBKQ=s64",
      "userId": "16331666692442260184"
     },
     "user_tz": 300
    },
    "id": "q7NVCYVtx-AJ"
   },
   "outputs": [],
   "source": [
    "# Creando la red neuronal\n",
    "# input_shape (columnas, características)\n",
    "\n",
    "model = Sequential()\n",
    "model.add(Conv1D(64, 2, activation='relu', input_shape = (seq_size, 1)))\n",
    "model.add(MaxPooling1D())\n",
    "model.add(Flatten())\n",
    "model.add(Dense(50, activation='relu'))\n",
    "model.add(Dense(1))\n",
    "model.compile(optimizer='adam', loss='mse')"
   ]
  },
  {
   "cell_type": "markdown",
   "metadata": {
    "id": "AE0GW7EKsbF9"
   },
   "source": [
    "Entrenando la red CNN"
   ]
  },
  {
   "cell_type": "code",
   "execution_count": 14,
   "metadata": {
    "colab": {
     "base_uri": "https://localhost:8080/"
    },
    "executionInfo": {
     "elapsed": 20561,
     "status": "ok",
     "timestamp": 1628307613465,
     "user": {
      "displayName": "orlando belli",
      "photoUrl": "https://lh3.googleusercontent.com/a-/AOh14GjEYipEc8UYvi9I0KWDDIN3LXw_BByHVyiM2iLBKQ=s64",
      "userId": "16331666692442260184"
     },
     "user_tz": 300
    },
    "id": "BLeOhzlwx_7J",
    "outputId": "806cac45-23f7-46e0-c8cc-493a9f58f22d"
   },
   "outputs": [
    {
     "name": "stdout",
     "output_type": "stream",
     "text": [
      "Epoch 1/100\n",
      "3/3 [==============================] - 0s 37ms/step - loss: 0.0730 - val_loss: 0.0102\n",
      "Epoch 2/100\n",
      "3/3 [==============================] - 0s 3ms/step - loss: 0.0421 - val_loss: 0.0307\n",
      "Epoch 3/100\n",
      "3/3 [==============================] - 0s 5ms/step - loss: 0.0393 - val_loss: 0.0347\n",
      "Epoch 4/100\n",
      "3/3 [==============================] - 0s 5ms/step - loss: 0.0344 - val_loss: 0.0198\n",
      "Epoch 5/100\n",
      "3/3 [==============================] - 0s 5ms/step - loss: 0.0269 - val_loss: 0.0085\n",
      "Epoch 6/100\n",
      "3/3 [==============================] - 0s 5ms/step - loss: 0.0227 - val_loss: 0.0050\n",
      "Epoch 7/100\n",
      "3/3 [==============================] - 0s 6ms/step - loss: 0.0203 - val_loss: 0.0045\n",
      "Epoch 8/100\n",
      "3/3 [==============================] - 0s 7ms/step - loss: 0.0166 - val_loss: 0.0046\n",
      "Epoch 9/100\n",
      "3/3 [==============================] - 0s 5ms/step - loss: 0.0133 - val_loss: 0.0055\n",
      "Epoch 10/100\n",
      "3/3 [==============================] - 0s 5ms/step - loss: 0.0114 - val_loss: 0.0049\n",
      "Epoch 11/100\n",
      "3/3 [==============================] - 0s 5ms/step - loss: 0.0098 - val_loss: 0.0038\n",
      "Epoch 12/100\n",
      "3/3 [==============================] - 0s 5ms/step - loss: 0.0084 - val_loss: 0.0039\n",
      "Epoch 13/100\n",
      "3/3 [==============================] - 0s 5ms/step - loss: 0.0074 - val_loss: 0.0038\n",
      "Epoch 14/100\n",
      "3/3 [==============================] - 0s 5ms/step - loss: 0.0066 - val_loss: 0.0037\n",
      "Epoch 15/100\n",
      "3/3 [==============================] - 0s 3ms/step - loss: 0.0065 - val_loss: 0.0037\n",
      "Epoch 16/100\n",
      "3/3 [==============================] - 0s 3ms/step - loss: 0.0064 - val_loss: 0.0040\n",
      "Epoch 17/100\n",
      "3/3 [==============================] - 0s 6ms/step - loss: 0.0059 - val_loss: 0.0045\n",
      "Epoch 18/100\n",
      "3/3 [==============================] - 0s 5ms/step - loss: 0.0059 - val_loss: 0.0041\n",
      "Epoch 19/100\n",
      "3/3 [==============================] - 0s 5ms/step - loss: 0.0056 - val_loss: 0.0032\n",
      "Epoch 20/100\n",
      "3/3 [==============================] - 0s 5ms/step - loss: 0.0055 - val_loss: 0.0029\n",
      "Epoch 21/100\n",
      "3/3 [==============================] - 0s 4ms/step - loss: 0.0053 - val_loss: 0.0030\n",
      "Epoch 22/100\n",
      "3/3 [==============================] - 0s 5ms/step - loss: 0.0052 - val_loss: 0.0036\n",
      "Epoch 23/100\n",
      "3/3 [==============================] - 0s 5ms/step - loss: 0.0052 - val_loss: 0.0026\n",
      "Epoch 24/100\n",
      "3/3 [==============================] - 0s 5ms/step - loss: 0.0048 - val_loss: 0.0022\n",
      "Epoch 25/100\n",
      "3/3 [==============================] - 0s 5ms/step - loss: 0.0050 - val_loss: 0.0020\n",
      "Epoch 26/100\n",
      "3/3 [==============================] - 0s 5ms/step - loss: 0.0047 - val_loss: 0.0026\n",
      "Epoch 27/100\n",
      "3/3 [==============================] - 0s 5ms/step - loss: 0.0044 - val_loss: 0.0036\n",
      "Epoch 28/100\n",
      "3/3 [==============================] - 0s 6ms/step - loss: 0.0047 - val_loss: 0.0029\n",
      "Epoch 29/100\n",
      "3/3 [==============================] - 0s 4ms/step - loss: 0.0043 - val_loss: 0.0021\n",
      "Epoch 30/100\n",
      "3/3 [==============================] - 0s 5ms/step - loss: 0.0043 - val_loss: 0.0020\n",
      "Epoch 31/100\n",
      "3/3 [==============================] - 0s 5ms/step - loss: 0.0041 - val_loss: 0.0025\n",
      "Epoch 32/100\n",
      "3/3 [==============================] - 0s 5ms/step - loss: 0.0041 - val_loss: 0.0022\n",
      "Epoch 33/100\n",
      "3/3 [==============================] - 0s 4ms/step - loss: 0.0040 - val_loss: 0.0018\n",
      "Epoch 34/100\n",
      "3/3 [==============================] - 0s 5ms/step - loss: 0.0040 - val_loss: 0.0021\n",
      "Epoch 35/100\n",
      "3/3 [==============================] - 0s 4ms/step - loss: 0.0043 - val_loss: 0.0024\n",
      "Epoch 36/100\n",
      "3/3 [==============================] - 0s 5ms/step - loss: 0.0037 - val_loss: 0.0045\n",
      "Epoch 37/100\n",
      "3/3 [==============================] - 0s 5ms/step - loss: 0.0040 - val_loss: 0.0029\n",
      "Epoch 38/100\n",
      "3/3 [==============================] - 0s 3ms/step - loss: 0.0038 - val_loss: 0.0022\n",
      "Epoch 39/100\n",
      "3/3 [==============================] - 0s 4ms/step - loss: 0.0038 - val_loss: 0.0023\n",
      "Epoch 40/100\n",
      "3/3 [==============================] - 0s 4ms/step - loss: 0.0034 - val_loss: 0.0041\n",
      "Epoch 41/100\n",
      "3/3 [==============================] - 0s 5ms/step - loss: 0.0037 - val_loss: 0.0019\n",
      "Epoch 42/100\n",
      "3/3 [==============================] - 0s 5ms/step - loss: 0.0031 - val_loss: 0.0023\n",
      "Epoch 43/100\n",
      "3/3 [==============================] - 0s 3ms/step - loss: 0.0037 - val_loss: 0.0018\n",
      "Epoch 44/100\n",
      "3/3 [==============================] - 0s 7ms/step - loss: 0.0031 - val_loss: 0.0028\n",
      "Epoch 45/100\n",
      "3/3 [==============================] - 0s 2ms/step - loss: 0.0032 - val_loss: 0.0022\n",
      "Epoch 46/100\n",
      "3/3 [==============================] - 0s 4ms/step - loss: 0.0030 - val_loss: 0.0020\n",
      "Epoch 47/100\n",
      "3/3 [==============================] - 0s 5ms/step - loss: 0.0032 - val_loss: 0.0019\n",
      "Epoch 48/100\n",
      "3/3 [==============================] - 0s 5ms/step - loss: 0.0028 - val_loss: 0.0027\n",
      "Epoch 49/100\n",
      "3/3 [==============================] - 0s 5ms/step - loss: 0.0030 - val_loss: 0.0024\n",
      "Epoch 50/100\n",
      "3/3 [==============================] - 0s 5ms/step - loss: 0.0028 - val_loss: 0.0015\n",
      "Epoch 51/100\n",
      "3/3 [==============================] - 0s 5ms/step - loss: 0.0028 - val_loss: 0.0014\n",
      "Epoch 52/100\n",
      "3/3 [==============================] - 0s 5ms/step - loss: 0.0027 - val_loss: 0.0017\n",
      "Epoch 53/100\n",
      "3/3 [==============================] - 0s 6ms/step - loss: 0.0027 - val_loss: 0.0019\n",
      "Epoch 54/100\n",
      "3/3 [==============================] - 0s 4ms/step - loss: 0.0026 - val_loss: 0.0015\n",
      "Epoch 55/100\n",
      "3/3 [==============================] - 0s 6ms/step - loss: 0.0025 - val_loss: 0.0017\n",
      "Epoch 56/100\n",
      "3/3 [==============================] - 0s 6ms/step - loss: 0.0024 - val_loss: 0.0020\n",
      "Epoch 57/100\n",
      "3/3 [==============================] - 0s 5ms/step - loss: 0.0025 - val_loss: 0.0024\n",
      "Epoch 58/100\n",
      "3/3 [==============================] - 0s 5ms/step - loss: 0.0024 - val_loss: 0.0018\n",
      "Epoch 59/100\n",
      "3/3 [==============================] - 0s 5ms/step - loss: 0.0027 - val_loss: 0.0019\n",
      "Epoch 60/100\n",
      "3/3 [==============================] - 0s 4ms/step - loss: 0.0024 - val_loss: 0.0037\n",
      "Epoch 61/100\n",
      "3/3 [==============================] - 0s 4ms/step - loss: 0.0027 - val_loss: 0.0025\n",
      "Epoch 62/100\n",
      "3/3 [==============================] - 0s 2ms/step - loss: 0.0022 - val_loss: 0.0018\n",
      "Epoch 63/100\n",
      "3/3 [==============================] - 0s 3ms/step - loss: 0.0022 - val_loss: 0.0020\n",
      "Epoch 64/100\n",
      "3/3 [==============================] - 0s 7ms/step - loss: 0.0022 - val_loss: 0.0024\n",
      "Epoch 65/100\n",
      "3/3 [==============================] - 0s 4ms/step - loss: 0.0022 - val_loss: 0.0019\n",
      "Epoch 66/100\n",
      "3/3 [==============================] - 0s 4ms/step - loss: 0.0022 - val_loss: 0.0017\n",
      "Epoch 67/100\n",
      "3/3 [==============================] - 0s 5ms/step - loss: 0.0022 - val_loss: 0.0018\n",
      "Epoch 68/100\n",
      "3/3 [==============================] - 0s 6ms/step - loss: 0.0022 - val_loss: 0.0022\n",
      "Epoch 69/100\n",
      "3/3 [==============================] - 0s 5ms/step - loss: 0.0021 - val_loss: 0.0020\n",
      "Epoch 70/100\n",
      "3/3 [==============================] - 0s 5ms/step - loss: 0.0021 - val_loss: 0.0020\n",
      "Epoch 71/100\n",
      "3/3 [==============================] - 0s 5ms/step - loss: 0.0020 - val_loss: 0.0028\n",
      "Epoch 72/100\n",
      "3/3 [==============================] - 0s 5ms/step - loss: 0.0021 - val_loss: 0.0025\n",
      "Epoch 73/100\n",
      "3/3 [==============================] - 0s 4ms/step - loss: 0.0020 - val_loss: 0.0016\n",
      "Epoch 74/100\n",
      "3/3 [==============================] - 0s 4ms/step - loss: 0.0021 - val_loss: 0.0018\n",
      "Epoch 75/100\n",
      "3/3 [==============================] - 0s 5ms/step - loss: 0.0019 - val_loss: 0.0028\n",
      "Epoch 76/100\n",
      "3/3 [==============================] - 0s 4ms/step - loss: 0.0022 - val_loss: 0.0023\n",
      "Epoch 77/100\n",
      "3/3 [==============================] - 0s 4ms/step - loss: 0.0020 - val_loss: 0.0018\n",
      "Epoch 78/100\n",
      "3/3 [==============================] - 0s 2ms/step - loss: 0.0021 - val_loss: 0.0017\n",
      "Epoch 79/100\n",
      "3/3 [==============================] - 0s 3ms/step - loss: 0.0020 - val_loss: 0.0024\n",
      "Epoch 80/100\n",
      "3/3 [==============================] - 0s 6ms/step - loss: 0.0019 - val_loss: 0.0021\n",
      "Epoch 81/100\n",
      "3/3 [==============================] - 0s 4ms/step - loss: 0.0019 - val_loss: 0.0019\n",
      "Epoch 82/100\n",
      "3/3 [==============================] - 0s 6ms/step - loss: 0.0019 - val_loss: 0.0021\n",
      "Epoch 83/100\n",
      "3/3 [==============================] - 0s 5ms/step - loss: 0.0019 - val_loss: 0.0018\n",
      "Epoch 84/100\n",
      "3/3 [==============================] - 0s 5ms/step - loss: 0.0019 - val_loss: 0.0016\n",
      "Epoch 85/100\n",
      "3/3 [==============================] - 0s 4ms/step - loss: 0.0018 - val_loss: 0.0026\n",
      "Epoch 86/100\n",
      "3/3 [==============================] - 0s 4ms/step - loss: 0.0020 - val_loss: 0.0016\n",
      "Epoch 87/100\n",
      "3/3 [==============================] - 0s 5ms/step - loss: 0.0019 - val_loss: 0.0017\n",
      "Epoch 88/100\n",
      "3/3 [==============================] - 0s 2ms/step - loss: 0.0018 - val_loss: 0.0026\n",
      "Epoch 89/100\n",
      "3/3 [==============================] - 0s 3ms/step - loss: 0.0022 - val_loss: 0.0019\n",
      "Epoch 90/100\n",
      "3/3 [==============================] - 0s 7ms/step - loss: 0.0017 - val_loss: 0.0015\n",
      "Epoch 91/100\n",
      "3/3 [==============================] - 0s 3ms/step - loss: 0.0024 - val_loss: 0.0019\n",
      "Epoch 92/100\n",
      "3/3 [==============================] - 0s 5ms/step - loss: 0.0021 - val_loss: 0.0032\n",
      "Epoch 93/100\n",
      "3/3 [==============================] - 0s 4ms/step - loss: 0.0020 - val_loss: 0.0014\n",
      "Epoch 94/100\n",
      "3/3 [==============================] - 0s 5ms/step - loss: 0.0020 - val_loss: 0.0016\n",
      "Epoch 95/100\n",
      "3/3 [==============================] - 0s 5ms/step - loss: 0.0019 - val_loss: 0.0037\n",
      "Epoch 96/100\n",
      "3/3 [==============================] - 0s 5ms/step - loss: 0.0021 - val_loss: 0.0017\n",
      "Epoch 97/100\n",
      "3/3 [==============================] - 0s 4ms/step - loss: 0.0022 - val_loss: 0.0017\n",
      "Epoch 98/100\n",
      "3/3 [==============================] - 0s 4ms/step - loss: 0.0021 - val_loss: 0.0032\n",
      "Epoch 99/100\n",
      "3/3 [==============================] - 0s 5ms/step - loss: 0.0023 - val_loss: 0.0024\n",
      "Epoch 100/100\n",
      "3/3 [==============================] - 0s 4ms/step - loss: 0.0017 - val_loss: 0.0019\n"
     ]
    }
   ],
   "source": [
    "EPOCHS = 100\n",
    "\n",
    "history = model.fit(trainX,trainY,epochs=EPOCHS,validation_data=(testX,testY), verbose = 1)"
   ]
  },
  {
   "cell_type": "code",
   "execution_count": 15,
   "metadata": {
    "colab": {
     "base_uri": "https://localhost:8080/",
     "height": 313
    },
    "executionInfo": {
     "elapsed": 331,
     "status": "ok",
     "timestamp": 1628307660437,
     "user": {
      "displayName": "orlando belli",
      "photoUrl": "https://lh3.googleusercontent.com/a-/AOh14GjEYipEc8UYvi9I0KWDDIN3LXw_BByHVyiM2iLBKQ=s64",
      "userId": "16331666692442260184"
     },
     "user_tz": 300
    },
    "id": "IcH6_uL1yCKt",
    "outputId": "575f64b4-c035-4130-b37b-5ff1b7da5078"
   },
   "outputs": [
    {
     "data": {
      "text/plain": [
       "Text(0.5, 1.0, 'ECM vs. epochs')"
      ]
     },
     "execution_count": 15,
     "metadata": {},
     "output_type": "execute_result"
    },
    {
     "data": {
      "image/png": "[encoded data removed]",
      "text/plain": [
       "<Figure size 432x288 with 1 Axes>"
      ]
     },
     "metadata": {
      "needs_background": "light"
     },
     "output_type": "display_data"
    }
   ],
   "source": [
    "# ECM error cuadrático medio\n",
    "\n",
    "plt.plot(history.history['loss'],color = 'r', label = 'train')\n",
    "plt.plot(history.history['val_loss'], label = 'test')\n",
    "plt.xlabel('epoch')\n",
    "plt.ylabel('ECM')\n",
    "plt.legend(loc = 'best')\n",
    "plt.title('ECM vs. epochs')"
   ]
  },
  {
   "cell_type": "code",
   "execution_count": 16,
   "metadata": {
    "executionInfo": {
     "elapsed": 766,
     "status": "ok",
     "timestamp": 1628307717107,
     "user": {
      "displayName": "orlando belli",
      "photoUrl": "https://lh3.googleusercontent.com/a-/AOh14GjEYipEc8UYvi9I0KWDDIN3LXw_BByHVyiM2iLBKQ=s64",
      "userId": "16331666692442260184"
     },
     "user_tz": 300
    },
    "id": "qJgQPM_dyFss"
   },
   "outputs": [],
   "source": [
    "# predicciones\n",
    "\n",
    "trainPredict = model.predict(trainX)\n",
    "testPredict = model.predict(testX)\n",
    "\n",
    "trainPredict = scaler.inverse_transform(trainPredict)\n",
    "trainY_inverse = scaler.inverse_transform([trainY])\n",
    "testPredict = scaler.inverse_transform(testPredict)\n",
    "testY_inverse = scaler.inverse_transform([testY])"
   ]
  },
  {
   "cell_type": "code",
   "execution_count": 17,
   "metadata": {
    "executionInfo": {
     "elapsed": 312,
     "status": "ok",
     "timestamp": 1628307724782,
     "user": {
      "displayName": "orlando belli",
      "photoUrl": "https://lh3.googleusercontent.com/a-/AOh14GjEYipEc8UYvi9I0KWDDIN3LXw_BByHVyiM2iLBKQ=s64",
      "userId": "16331666692442260184"
     },
     "user_tz": 300
    },
    "id": "muHxny3cyJgX"
   },
   "outputs": [],
   "source": [
    "# preparando data para el plot\n",
    "\n",
    "trainPredictPlot = np.empty_like(dataset)\n",
    "trainPredictPlot[:,:] = np.nan\n",
    "trainPredictPlot[seq_size:len(trainPredict)+seq_size,:] = trainPredict\n",
    "\n",
    "# shift test predictions \n",
    "testPredictPlot = np.empty_like(dataset)\n",
    "testPredictPlot[:,:] = np.nan\n",
    "testPredictPlot[len(trainPredict)+(seq_size*2)+1:len(dataset)-1:] = testPredict"
   ]
  },
  {
   "cell_type": "markdown",
   "metadata": {
    "id": "DkkHobbHyoYG"
   },
   "source": [
    "Plot entrenamiento, predicciones test , vs data real"
   ]
  },
  {
   "cell_type": "code",
   "execution_count": 18,
   "metadata": {
    "colab": {
     "base_uri": "https://localhost:8080/",
     "height": 337
    },
    "executionInfo": {
     "elapsed": 683,
     "status": "ok",
     "timestamp": 1628307777748,
     "user": {
      "displayName": "orlando belli",
      "photoUrl": "https://lh3.googleusercontent.com/a-/AOh14GjEYipEc8UYvi9I0KWDDIN3LXw_BByHVyiM2iLBKQ=s64",
      "userId": "16331666692442260184"
     },
     "user_tz": 300
    },
    "id": "uByljf20yL6o",
    "outputId": "dd73972d-c5bf-4181-c586-f312fe5edf62"
   },
   "outputs": [
    {
     "data": {
      "text/plain": [
       "<function matplotlib.pyplot.show(close=None, block=None)>"
      ]
     },
     "execution_count": 18,
     "metadata": {},
     "output_type": "execute_result"
    },
    {
     "data": {
      "image/png": "[encoded data removed]",
      "text/plain": [
       "<Figure size 1152x360 with 1 Axes>"
      ]
     },
     "metadata": {
      "needs_background": "light"
     },
     "output_type": "display_data"
    }
   ],
   "source": [
    "plt.figure(figsize=(16,5))\n",
    "\n",
    "plt.plot(scaler.inverse_transform(dataset), label ='real')\n",
    "plt.plot(trainPredictPlot, label = 'train')\n",
    "plt.plot(testPredictPlot, label = 'test')\n",
    "plt.legend(loc = 'best')\n",
    "plt.grid()\n",
    "plt.show"
   ]
  },
  {
   "cell_type": "markdown",
   "metadata": {
    "id": "jJYzE0U4tZ1I"
   },
   "source": [
    "Pronóstico"
   ]
  },
  {
   "cell_type": "code",
   "execution_count": 19,
   "metadata": {
    "colab": {
     "base_uri": "https://localhost:8080/"
    },
    "executionInfo": {
     "elapsed": 289,
     "status": "ok",
     "timestamp": 1628307841904,
     "user": {
      "displayName": "orlando belli",
      "photoUrl": "https://lh3.googleusercontent.com/a-/AOh14GjEYipEc8UYvi9I0KWDDIN3LXw_BByHVyiM2iLBKQ=s64",
      "userId": "16331666692442260184"
     },
     "user_tz": 300
    },
    "id": "5Ch15FxYyON3",
    "outputId": "0c5fa40c-fef1-4521-88c4-c7710f1d4840"
   },
   "outputs": [
    {
     "data": {
      "text/plain": [
       "(8, 12, 1)"
      ]
     },
     "execution_count": 19,
     "metadata": {},
     "output_type": "execute_result"
    }
   ],
   "source": [
    "# data de test\n",
    "\n",
    "testX.shape"
   ]
  },
  {
   "cell_type": "code",
   "execution_count": 20,
   "metadata": {
    "colab": {
     "base_uri": "https://localhost:8080/"
    },
    "executionInfo": {
     "elapsed": 330,
     "status": "ok",
     "timestamp": 1628307846785,
     "user": {
      "displayName": "orlando belli",
      "photoUrl": "https://lh3.googleusercontent.com/a-/AOh14GjEYipEc8UYvi9I0KWDDIN3LXw_BByHVyiM2iLBKQ=s64",
      "userId": "16331666692442260184"
     },
     "user_tz": 300
    },
    "id": "8H_XKra45mc5",
    "outputId": "32035139-6337-4f7e-ad14-ed14e8c52679"
   },
   "outputs": [
    {
     "data": {
      "text/plain": [
       "(1, 12)"
      ]
     },
     "execution_count": 20,
     "metadata": {},
     "output_type": "execute_result"
    }
   ],
   "source": [
    "# el último registro de la data de test\n",
    "\n",
    "testX, testY = to_sequences(test,seq_size)\n",
    "testX = testX[-1,:].reshape(-1,12)\n",
    "testX.shape"
   ]
  },
  {
   "cell_type": "code",
   "execution_count": 21,
   "metadata": {
    "colab": {
     "base_uri": "https://localhost:8080/"
    },
    "executionInfo": {
     "elapsed": 319,
     "status": "ok",
     "timestamp": 1628307851461,
     "user": {
      "displayName": "orlando belli",
      "photoUrl": "https://lh3.googleusercontent.com/a-/AOh14GjEYipEc8UYvi9I0KWDDIN3LXw_BByHVyiM2iLBKQ=s64",
      "userId": "16331666692442260184"
     },
     "user_tz": 300
    },
    "id": "QBzADKYG53if",
    "outputId": "c61d9e3f-2550-4caa-ebef-976e7c7f550a"
   },
   "outputs": [
    {
     "data": {
      "text/plain": [
       "(1, 12, 1)"
      ]
     },
     "execution_count": 21,
     "metadata": {},
     "output_type": "execute_result"
    }
   ],
   "source": [
    "# convierto a 3D\n",
    "\n",
    "x_test = testX.reshape((testX.shape[0], testX.shape[1],1))\n",
    "x_test.shape"
   ]
  },
  {
   "cell_type": "code",
   "execution_count": 22,
   "metadata": {
    "colab": {
     "base_uri": "https://localhost:8080/"
    },
    "executionInfo": {
     "elapsed": 1494,
     "status": "ok",
     "timestamp": 1628307898713,
     "user": {
      "displayName": "orlando belli",
      "photoUrl": "https://lh3.googleusercontent.com/a-/AOh14GjEYipEc8UYvi9I0KWDDIN3LXw_BByHVyiM2iLBKQ=s64",
      "userId": "16331666692442260184"
     },
     "user_tz": 300
    },
    "id": "0hEZbUBh64mk",
    "outputId": "4b4eb712-f177-4d78-c702-5e09ad636e29"
   },
   "outputs": [
    {
     "name": "stdout",
     "output_type": "stream",
     "text": [
      "[[[0.01967528]\n",
      "  [0.3629529 ]\n",
      "  [0.4453331 ]\n",
      "  [0.67487806]\n",
      "  [0.90034395]\n",
      "  [0.23474365]\n",
      "  [0.1720387 ]\n",
      "  [0.25305927]\n",
      "  [0.26993522]\n",
      "  [0.25633848]\n",
      "  [0.31184515]\n",
      "  [0.23074463]]]\n",
      "[[[0.3629529 ]\n",
      "  [0.4453331 ]\n",
      "  [0.67487806]\n",
      "  [0.90034395]\n",
      "  [0.23474365]\n",
      "  [0.1720387 ]\n",
      "  [0.25305927]\n",
      "  [0.26993522]\n",
      "  [0.25633848]\n",
      "  [0.31184515]\n",
      "  [0.23074463]\n",
      "  [0.06690101]]]\n",
      "[[[0.4453331 ]\n",
      "  [0.67487806]\n",
      "  [0.90034395]\n",
      "  [0.23474365]\n",
      "  [0.1720387 ]\n",
      "  [0.25305927]\n",
      "  [0.26993522]\n",
      "  [0.25633848]\n",
      "  [0.31184515]\n",
      "  [0.23074463]\n",
      "  [0.06690101]\n",
      "  [0.38454705]]]\n",
      "[[[0.67487806]\n",
      "  [0.90034395]\n",
      "  [0.23474365]\n",
      "  [0.1720387 ]\n",
      "  [0.25305927]\n",
      "  [0.26993522]\n",
      "  [0.25633848]\n",
      "  [0.31184515]\n",
      "  [0.23074463]\n",
      "  [0.06690101]\n",
      "  [0.38454705]\n",
      "  [0.4843678 ]]]\n",
      "[[[0.90034395]\n",
      "  [0.23474365]\n",
      "  [0.1720387 ]\n",
      "  [0.25305927]\n",
      "  [0.26993522]\n",
      "  [0.25633848]\n",
      "  [0.31184515]\n",
      "  [0.23074463]\n",
      "  [0.06690101]\n",
      "  [0.38454705]\n",
      "  [0.4843678 ]\n",
      "  [0.77797663]]]\n",
      "[[[0.23474365]\n",
      "  [0.1720387 ]\n",
      "  [0.25305927]\n",
      "  [0.26993522]\n",
      "  [0.25633848]\n",
      "  [0.31184515]\n",
      "  [0.23074463]\n",
      "  [0.06690101]\n",
      "  [0.38454705]\n",
      "  [0.4843678 ]\n",
      "  [0.77797663]\n",
      "  [1.0135081 ]]]\n",
      "[[[0.1720387 ]\n",
      "  [0.25305927]\n",
      "  [0.26993522]\n",
      "  [0.25633848]\n",
      "  [0.31184515]\n",
      "  [0.23074463]\n",
      "  [0.06690101]\n",
      "  [0.38454705]\n",
      "  [0.4843678 ]\n",
      "  [0.77797663]\n",
      "  [1.0135081 ]\n",
      "  [0.24009876]]]\n",
      "[[[0.25305927]\n",
      "  [0.26993522]\n",
      "  [0.25633848]\n",
      "  [0.31184515]\n",
      "  [0.23074463]\n",
      "  [0.06690101]\n",
      "  [0.38454705]\n",
      "  [0.4843678 ]\n",
      "  [0.77797663]\n",
      "  [1.0135081 ]\n",
      "  [0.24009876]\n",
      "  [0.24330193]]]\n",
      "[[[0.26993522]\n",
      "  [0.25633848]\n",
      "  [0.31184515]\n",
      "  [0.23074463]\n",
      "  [0.06690101]\n",
      "  [0.38454705]\n",
      "  [0.4843678 ]\n",
      "  [0.77797663]\n",
      "  [1.0135081 ]\n",
      "  [0.24009876]\n",
      "  [0.24330193]\n",
      "  [0.31514877]]]\n",
      "[[[0.25633848]\n",
      "  [0.31184515]\n",
      "  [0.23074463]\n",
      "  [0.06690101]\n",
      "  [0.38454705]\n",
      "  [0.4843678 ]\n",
      "  [0.77797663]\n",
      "  [1.0135081 ]\n",
      "  [0.24009876]\n",
      "  [0.24330193]\n",
      "  [0.31514877]\n",
      "  [0.2606957 ]]]\n",
      "[[[0.31184515]\n",
      "  [0.23074463]\n",
      "  [0.06690101]\n",
      "  [0.38454705]\n",
      "  [0.4843678 ]\n",
      "  [0.77797663]\n",
      "  [1.0135081 ]\n",
      "  [0.24009876]\n",
      "  [0.24330193]\n",
      "  [0.31514877]\n",
      "  [0.2606957 ]\n",
      "  [0.24618323]]]\n",
      "[[[0.23074463]\n",
      "  [0.06690101]\n",
      "  [0.38454705]\n",
      "  [0.4843678 ]\n",
      "  [0.77797663]\n",
      "  [1.0135081 ]\n",
      "  [0.24009876]\n",
      "  [0.24330193]\n",
      "  [0.31514877]\n",
      "  [0.2606957 ]\n",
      "  [0.24618323]\n",
      "  [0.32805824]]]\n",
      "[[[0.06690101]\n",
      "  [0.38454705]\n",
      "  [0.4843678 ]\n",
      "  [0.77797663]\n",
      "  [1.0135081 ]\n",
      "  [0.24009876]\n",
      "  [0.24330193]\n",
      "  [0.31514877]\n",
      "  [0.2606957 ]\n",
      "  [0.24618323]\n",
      "  [0.32805824]\n",
      "  [0.26589078]]]\n",
      "[[[0.38454705]\n",
      "  [0.4843678 ]\n",
      "  [0.77797663]\n",
      "  [1.0135081 ]\n",
      "  [0.24009876]\n",
      "  [0.24330193]\n",
      "  [0.31514877]\n",
      "  [0.2606957 ]\n",
      "  [0.24618323]\n",
      "  [0.32805824]\n",
      "  [0.26589078]\n",
      "  [0.09624409]]]\n",
      "[[[0.4843678 ]\n",
      "  [0.77797663]\n",
      "  [1.0135081 ]\n",
      "  [0.24009876]\n",
      "  [0.24330193]\n",
      "  [0.31514877]\n",
      "  [0.2606957 ]\n",
      "  [0.24618323]\n",
      "  [0.32805824]\n",
      "  [0.26589078]\n",
      "  [0.09624409]\n",
      "  [0.42423165]]]\n",
      "[[[0.77797663]\n",
      "  [1.0135081 ]\n",
      "  [0.24009876]\n",
      "  [0.24330193]\n",
      "  [0.31514877]\n",
      "  [0.2606957 ]\n",
      "  [0.24618323]\n",
      "  [0.32805824]\n",
      "  [0.26589078]\n",
      "  [0.09624409]\n",
      "  [0.42423165]\n",
      "  [0.54200554]]]\n",
      "[[[1.0135081 ]\n",
      "  [0.24009876]\n",
      "  [0.24330193]\n",
      "  [0.31514877]\n",
      "  [0.2606957 ]\n",
      "  [0.24618323]\n",
      "  [0.32805824]\n",
      "  [0.26589078]\n",
      "  [0.09624409]\n",
      "  [0.42423165]\n",
      "  [0.54200554]\n",
      "  [0.8419514 ]]]\n",
      "[[[0.24009876]\n",
      "  [0.24330193]\n",
      "  [0.31514877]\n",
      "  [0.2606957 ]\n",
      "  [0.24618323]\n",
      "  [0.32805824]\n",
      "  [0.26589078]\n",
      "  [0.09624409]\n",
      "  [0.42423165]\n",
      "  [0.54200554]\n",
      "  [0.8419514 ]\n",
      "  [1.1114509 ]]]\n",
      "[[[0.24330193]\n",
      "  [0.31514877]\n",
      "  [0.2606957 ]\n",
      "  [0.24618323]\n",
      "  [0.32805824]\n",
      "  [0.26589078]\n",
      "  [0.09624409]\n",
      "  [0.42423165]\n",
      "  [0.54200554]\n",
      "  [0.8419514 ]\n",
      "  [1.1114509 ]\n",
      "  [0.26191777]]]\n",
      "[[[0.31514877]\n",
      "  [0.2606957 ]\n",
      "  [0.24618323]\n",
      "  [0.32805824]\n",
      "  [0.26589078]\n",
      "  [0.09624409]\n",
      "  [0.42423165]\n",
      "  [0.54200554]\n",
      "  [0.8419514 ]\n",
      "  [1.1114509 ]\n",
      "  [0.26191777]\n",
      "  [0.30997598]]]\n",
      "[[[0.2606957 ]\n",
      "  [0.24618323]\n",
      "  [0.32805824]\n",
      "  [0.26589078]\n",
      "  [0.09624409]\n",
      "  [0.42423165]\n",
      "  [0.54200554]\n",
      "  [0.8419514 ]\n",
      "  [1.1114509 ]\n",
      "  [0.26191777]\n",
      "  [0.30997598]\n",
      "  [0.35839838]]]\n",
      "[[[0.24618323]\n",
      "  [0.32805824]\n",
      "  [0.26589078]\n",
      "  [0.09624409]\n",
      "  [0.42423165]\n",
      "  [0.54200554]\n",
      "  [0.8419514 ]\n",
      "  [1.1114509 ]\n",
      "  [0.26191777]\n",
      "  [0.30997598]\n",
      "  [0.35839838]\n",
      "  [0.2563043 ]]]\n",
      "[[[0.32805824]\n",
      "  [0.26589078]\n",
      "  [0.09624409]\n",
      "  [0.42423165]\n",
      "  [0.54200554]\n",
      "  [0.8419514 ]\n",
      "  [1.1114509 ]\n",
      "  [0.26191777]\n",
      "  [0.30997598]\n",
      "  [0.35839838]\n",
      "  [0.2563043 ]\n",
      "  [0.25539103]]]\n",
      "[[[0.26589078]\n",
      "  [0.09624409]\n",
      "  [0.42423165]\n",
      "  [0.54200554]\n",
      "  [0.8419514 ]\n",
      "  [1.1114509 ]\n",
      "  [0.26191777]\n",
      "  [0.30997598]\n",
      "  [0.35839838]\n",
      "  [0.2563043 ]\n",
      "  [0.25539103]\n",
      "  [0.3343919 ]]]\n"
     ]
    }
   ],
   "source": [
    "# con esto lleno la matriz para seguir calculando los días 2 de diciembre en adelante con los 12 previos\n",
    "# puedes mover el parametro para hacer pronóstico de más o menos puntos\n",
    "\n",
    "parametro = 24\n",
    "\n",
    "def agregarNuevoValor(x_test,nuevoValor):\n",
    "    for i in range(x_test.shape[1]-1):\n",
    "        x_test[0][i][0] = x_test[0][i+1][0]\n",
    "    x_test[0][x_test.shape[1]-1][0] = nuevoValor\n",
    "    return x_test\n",
    "\n",
    "results = []\n",
    "for i in range(parametro):\n",
    "    parcial = model.predict(x_test)\n",
    "    results.append(parcial[0])\n",
    "    print(x_test)\n",
    "    x_test = agregarNuevoValor(x_test,parcial[0])"
   ]
  },
  {
   "cell_type": "code",
   "execution_count": 23,
   "metadata": {
    "colab": {
     "base_uri": "https://localhost:8080/"
    },
    "executionInfo": {
     "elapsed": 296,
     "status": "ok",
     "timestamp": 1628307906083,
     "user": {
      "displayName": "orlando belli",
      "photoUrl": "https://lh3.googleusercontent.com/a-/AOh14GjEYipEc8UYvi9I0KWDDIN3LXw_BByHVyiM2iLBKQ=s64",
      "userId": "16331666692442260184"
     },
     "user_tz": 300
    },
    "id": "7nRms6I47u-0",
    "outputId": "b1ce353a-d58c-4373-a852-e2862b74d8ba"
   },
   "outputs": [
    {
     "data": {
      "text/plain": [
       "array([[ 2249.46333229],\n",
       "       [ 6220.99181931],\n",
       "       [ 7469.05045432],\n",
       "       [11140.04186208],\n",
       "       [14084.89159514],\n",
       "       [ 4414.95477034],\n",
       "       [ 4455.00398654],\n",
       "       [ 5353.30506843],\n",
       "       [ 4672.47826741],\n",
       "       [ 4491.0289236 ],\n",
       "       [ 5514.71219792],\n",
       "       [ 4737.43236857],\n",
       "       [ 2616.33981492],\n",
       "       [ 6717.16829781],\n",
       "       [ 8189.6952618 ],\n",
       "       [11939.91801885],\n",
       "       [15309.47079703],\n",
       "       [ 4687.75785915],\n",
       "       [ 5288.62968586],\n",
       "       [ 5894.05490991],\n",
       "       [ 4617.57256771],\n",
       "       [ 4606.15404825],\n",
       "       [ 5593.90181395],\n",
       "       [ 5011.00957218]])"
      ]
     },
     "execution_count": 23,
     "metadata": {},
     "output_type": "execute_result"
    }
   ],
   "source": [
    "# valores inversos al escalado\n",
    "\n",
    "adimen = [x for x in results]    \n",
    "inverted = scaler.inverse_transform(adimen)\n",
    "inverted"
   ]
  },
  {
   "cell_type": "code",
   "execution_count": 24,
   "metadata": {
    "colab": {
     "base_uri": "https://localhost:8080/",
     "height": 237
    },
    "executionInfo": {
     "elapsed": 281,
     "status": "ok",
     "timestamp": 1628307912346,
     "user": {
      "displayName": "orlando belli",
      "photoUrl": "https://lh3.googleusercontent.com/a-/AOh14GjEYipEc8UYvi9I0KWDDIN3LXw_BByHVyiM2iLBKQ=s64",
      "userId": "16331666692442260184"
     },
     "user_tz": 300
    },
    "id": "6G9kA19476cg",
    "outputId": "9b0ae8fc-8019-47bc-a303-53bbddd6d7d9"
   },
   "outputs": [
    {
     "data": {
      "text/html": [
       "<div>\n",
       "<style scoped>\n",
       "    .dataframe tbody tr th:only-of-type {\n",
       "        vertical-align: middle;\n",
       "    }\n",
       "\n",
       "    .dataframe tbody tr th {\n",
       "        vertical-align: top;\n",
       "    }\n",
       "\n",
       "    .dataframe thead th {\n",
       "        text-align: right;\n",
       "    }\n",
       "</style>\n",
       "<table border=\"1\" class=\"dataframe\">\n",
       "  <thead>\n",
       "    <tr style=\"text-align: right;\">\n",
       "      <th></th>\n",
       "      <th>demand</th>\n",
       "    </tr>\n",
       "    <tr>\n",
       "      <th>timestamp</th>\n",
       "      <th></th>\n",
       "    </tr>\n",
       "  </thead>\n",
       "  <tbody>\n",
       "    <tr>\n",
       "      <th>1964-01-01</th>\n",
       "      <td>2815</td>\n",
       "    </tr>\n",
       "    <tr>\n",
       "      <th>1964-02-01</th>\n",
       "      <td>2672</td>\n",
       "    </tr>\n",
       "    <tr>\n",
       "      <th>1964-03-01</th>\n",
       "      <td>2755</td>\n",
       "    </tr>\n",
       "    <tr>\n",
       "      <th>1964-04-01</th>\n",
       "      <td>2721</td>\n",
       "    </tr>\n",
       "    <tr>\n",
       "      <th>1964-05-01</th>\n",
       "      <td>2946</td>\n",
       "    </tr>\n",
       "  </tbody>\n",
       "</table>\n",
       "</div>"
      ],
      "text/plain": [
       "            demand\n",
       "timestamp         \n",
       "1964-01-01    2815\n",
       "1964-02-01    2672\n",
       "1964-03-01    2755\n",
       "1964-04-01    2721\n",
       "1964-05-01    2946"
      ]
     },
     "execution_count": 24,
     "metadata": {},
     "output_type": "execute_result"
    }
   ],
   "source": [
    "# concatenar df\n",
    "\n",
    "df.head()"
   ]
  },
  {
   "cell_type": "code",
   "execution_count": 25,
   "metadata": {
    "colab": {
     "base_uri": "https://localhost:8080/"
    },
    "executionInfo": {
     "elapsed": 3,
     "status": "ok",
     "timestamp": 1628307914932,
     "user": {
      "displayName": "orlando belli",
      "photoUrl": "https://lh3.googleusercontent.com/a-/AOh14GjEYipEc8UYvi9I0KWDDIN3LXw_BByHVyiM2iLBKQ=s64",
      "userId": "16331666692442260184"
     },
     "user_tz": 300
    },
    "id": "6yXjBVGP8gGB",
    "outputId": "44c20b85-2f04-4e52-980d-609a8b81efaf"
   },
   "outputs": [
    {
     "data": {
      "text/plain": [
       "24"
      ]
     },
     "execution_count": 25,
     "metadata": {},
     "output_type": "execute_result"
    }
   ],
   "source": [
    "y_pred=pd.DataFrame(inverted)\n",
    "len(y_pred)"
   ]
  },
  {
   "cell_type": "code",
   "execution_count": 26,
   "metadata": {
    "colab": {
     "base_uri": "https://localhost:8080/",
     "height": 320
    },
    "executionInfo": {
     "elapsed": 1007,
     "status": "ok",
     "timestamp": 1628307925394,
     "user": {
      "displayName": "orlando belli",
      "photoUrl": "https://lh3.googleusercontent.com/a-/AOh14GjEYipEc8UYvi9I0KWDDIN3LXw_BByHVyiM2iLBKQ=s64",
      "userId": "16331666692442260184"
     },
     "user_tz": 300
    },
    "id": "HaBGIF1K8-HP",
    "outputId": "397845c6-5079-4bdf-f356-08d3ef54c970"
   },
   "outputs": [
    {
     "data": {
      "image/png": "[encoded data removed]",
      "text/plain": [
       "<Figure size 1152x360 with 1 Axes>"
      ]
     },
     "metadata": {
      "needs_background": "light"
     },
     "output_type": "display_data"
    }
   ],
   "source": [
    "df2=pd.concat([df,y_pred])\n",
    "df2.plot(figsize=(16,5))\n",
    "plt.grid()"
   ]
  },
  {
   "cell_type": "code",
   "execution_count": null,
   "metadata": {
    "id": "3kRwm2dY9CMi"
   },
   "outputs": [],
   "source": []
  }
 ],
 "metadata": {
  "colab": {
   "authorship_tag": "ABX9TyMif8LQWoPAbwLrLlZTZhpi",
   "collapsed_sections": [],
   "mount_file_id": "16-DvbBfklnx9F3x7dcSMVdXxkmaZUosg",
   "name": "3 Forecast  Ferris con CNN.ipynb",
   "provenance": []
  },
  "kernelspec": {
   "display_name": "Python 3 (ipykernel)",
   "language": "python",
   "name": "python3"
  },
  "language_info": {
   "codemirror_mode": {
    "name": "ipython",
    "version": 3
   },
   "file_extension": ".py",
   "mimetype": "text/x-python",
   "name": "python",
   "nbconvert_exporter": "python",
   "pygments_lexer": "ipython3",
   "version": "3.8.8"
  }
 },
 "nbformat": 4,
 "nbformat_minor": 1
}
