{
 "cells": [
  {
   "cell_type": "code",
   "execution_count": 1,
   "metadata": {
    "executionInfo": {
     "elapsed": 2491,
     "status": "ok",
     "timestamp": 1628304651538,
     "user": {
      "displayName": "orlando belli",
      "photoUrl": "https://lh3.googleusercontent.com/a-/AOh14GjEYipEc8UYvi9I0KWDDIN3LXw_BByHVyiM2iLBKQ=s64",
      "userId": "16331666692442260184"
     },
     "user_tz": 300
    },
    "id": "liMvsOfrTnxI"
   },
   "outputs": [],
   "source": [
    "# cargamos las librerias a utilizar\n",
    "\n",
    "import pandas as pd\n",
    "import numpy as np\n",
    "import matplotlib.pylab as plt\n",
    "\n",
    "from keras.models import Sequential\n",
    "from keras.layers import Dense\n",
    "from keras.layers import Flatten\n",
    "from keras.layers.convolutional import Conv1D\n",
    "from keras.layers.convolutional import MaxPooling1D"
   ]
  },
  {
   "cell_type": "code",
   "execution_count": 2,
   "metadata": {
    "executionInfo": {
     "elapsed": 318,
     "status": "ok",
     "timestamp": 1628304695889,
     "user": {
      "displayName": "orlando belli",
      "photoUrl": "https://lh3.googleusercontent.com/a-/AOh14GjEYipEc8UYvi9I0KWDDIN3LXw_BByHVyiM2iLBKQ=s64",
      "userId": "16331666692442260184"
     },
     "user_tz": 300
    },
    "id": "It0QFxXux7HD"
   },
   "outputs": [],
   "source": [
    "# esta celda sirve para dar permiso al accedo de tus archivos del gdrive\n",
    "\n",
    "link = 'https://docs.google.com/spreadsheets/d/e/2PACX-1vS3Zbvu738Xi67ARfeqxG-Z46zXqTSK-sZUyEi9vRnFkQY7YJfNRdRt9iT4iXhYPg/pub?gid=1698849688&single=true&output=csv'"
   ]
  },
  {
   "cell_type": "code",
   "execution_count": 3,
   "metadata": {
    "colab": {
     "base_uri": "https://localhost:8080/",
     "height": 206
    },
    "executionInfo": {
     "elapsed": 1975,
     "status": "ok",
     "timestamp": 1628304705170,
     "user": {
      "displayName": "orlando belli",
      "photoUrl": "https://lh3.googleusercontent.com/a-/AOh14GjEYipEc8UYvi9I0KWDDIN3LXw_BByHVyiM2iLBKQ=s64",
      "userId": "16331666692442260184"
     },
     "user_tz": 300
    },
    "id": "1mQS7xrtx5IX",
    "outputId": "07a75ad6-37c5-448d-91b5-7699fb56eaba"
   },
   "outputs": [
    {
     "data": {
      "text/html": [
       "<div>\n",
       "<style scoped>\n",
       "    .dataframe tbody tr th:only-of-type {\n",
       "        vertical-align: middle;\n",
       "    }\n",
       "\n",
       "    .dataframe tbody tr th {\n",
       "        vertical-align: top;\n",
       "    }\n",
       "\n",
       "    .dataframe thead th {\n",
       "        text-align: right;\n",
       "    }\n",
       "</style>\n",
       "<table border=\"1\" class=\"dataframe\">\n",
       "  <thead>\n",
       "    <tr style=\"text-align: right;\">\n",
       "      <th></th>\n",
       "      <th>Month</th>\n",
       "      <th>#Passengers</th>\n",
       "    </tr>\n",
       "  </thead>\n",
       "  <tbody>\n",
       "    <tr>\n",
       "      <th>0</th>\n",
       "      <td>1949-01</td>\n",
       "      <td>112</td>\n",
       "    </tr>\n",
       "    <tr>\n",
       "      <th>1</th>\n",
       "      <td>1949-02</td>\n",
       "      <td>118</td>\n",
       "    </tr>\n",
       "    <tr>\n",
       "      <th>2</th>\n",
       "      <td>1949-03</td>\n",
       "      <td>132</td>\n",
       "    </tr>\n",
       "    <tr>\n",
       "      <th>3</th>\n",
       "      <td>1949-04</td>\n",
       "      <td>129</td>\n",
       "    </tr>\n",
       "    <tr>\n",
       "      <th>4</th>\n",
       "      <td>1949-05</td>\n",
       "      <td>121</td>\n",
       "    </tr>\n",
       "  </tbody>\n",
       "</table>\n",
       "</div>"
      ],
      "text/plain": [
       "     Month  #Passengers\n",
       "0  1949-01          112\n",
       "1  1949-02          118\n",
       "2  1949-03          132\n",
       "3  1949-04          129\n",
       "4  1949-05          121"
      ]
     },
     "execution_count": 3,
     "metadata": {},
     "output_type": "execute_result"
    }
   ],
   "source": [
    "data = pd.read_csv(link)\n",
    "data.head()"
   ]
  },
  {
   "cell_type": "code",
   "execution_count": 4,
   "metadata": {
    "colab": {
     "base_uri": "https://localhost:8080/",
     "height": 237
    },
    "executionInfo": {
     "elapsed": 304,
     "status": "ok",
     "timestamp": 1628304742969,
     "user": {
      "displayName": "orlando belli",
      "photoUrl": "https://lh3.googleusercontent.com/a-/AOh14GjEYipEc8UYvi9I0KWDDIN3LXw_BByHVyiM2iLBKQ=s64",
      "userId": "16331666692442260184"
     },
     "user_tz": 300
    },
    "id": "cw-f-kZJA5cJ",
    "outputId": "094b912b-4623-40af-ecd5-bf41794cd68a"
   },
   "outputs": [
    {
     "data": {
      "text/html": [
       "<div>\n",
       "<style scoped>\n",
       "    .dataframe tbody tr th:only-of-type {\n",
       "        vertical-align: middle;\n",
       "    }\n",
       "\n",
       "    .dataframe tbody tr th {\n",
       "        vertical-align: top;\n",
       "    }\n",
       "\n",
       "    .dataframe thead th {\n",
       "        text-align: right;\n",
       "    }\n",
       "</style>\n",
       "<table border=\"1\" class=\"dataframe\">\n",
       "  <thead>\n",
       "    <tr style=\"text-align: right;\">\n",
       "      <th></th>\n",
       "      <th>#Passengers</th>\n",
       "    </tr>\n",
       "    <tr>\n",
       "      <th>Month</th>\n",
       "      <th></th>\n",
       "    </tr>\n",
       "  </thead>\n",
       "  <tbody>\n",
       "    <tr>\n",
       "      <th>1949-01</th>\n",
       "      <td>112</td>\n",
       "    </tr>\n",
       "    <tr>\n",
       "      <th>1949-02</th>\n",
       "      <td>118</td>\n",
       "    </tr>\n",
       "    <tr>\n",
       "      <th>1949-03</th>\n",
       "      <td>132</td>\n",
       "    </tr>\n",
       "    <tr>\n",
       "      <th>1949-04</th>\n",
       "      <td>129</td>\n",
       "    </tr>\n",
       "    <tr>\n",
       "      <th>1949-05</th>\n",
       "      <td>121</td>\n",
       "    </tr>\n",
       "  </tbody>\n",
       "</table>\n",
       "</div>"
      ],
      "text/plain": [
       "         #Passengers\n",
       "Month               \n",
       "1949-01          112\n",
       "1949-02          118\n",
       "1949-03          132\n",
       "1949-04          129\n",
       "1949-05          121"
      ]
     },
     "execution_count": 4,
     "metadata": {},
     "output_type": "execute_result"
    }
   ],
   "source": [
    "# seteando la columna Month como índice\n",
    "\n",
    "df = data.set_index('Month')\n",
    "df.head()"
   ]
  },
  {
   "cell_type": "code",
   "execution_count": 5,
   "metadata": {
    "colab": {
     "base_uri": "https://localhost:8080/"
    },
    "executionInfo": {
     "elapsed": 300,
     "status": "ok",
     "timestamp": 1628304851150,
     "user": {
      "displayName": "orlando belli",
      "photoUrl": "https://lh3.googleusercontent.com/a-/AOh14GjEYipEc8UYvi9I0KWDDIN3LXw_BByHVyiM2iLBKQ=s64",
      "userId": "16331666692442260184"
     },
     "user_tz": 300
    },
    "id": "htaXABBltQOP",
    "outputId": "203606d9-4294-441e-fd3b-3eba93cb673c"
   },
   "outputs": [
    {
     "data": {
      "text/plain": [
       "144"
      ]
     },
     "execution_count": 5,
     "metadata": {},
     "output_type": "execute_result"
    }
   ],
   "source": [
    "# selecciono la columna de interés #Passengers y la redimensionamos a vector columna (-1,1)\n",
    "\n",
    "dataset = data.iloc[:,1].values.reshape(-1,1)\n",
    "len(dataset)"
   ]
  },
  {
   "cell_type": "code",
   "execution_count": 6,
   "metadata": {
    "colab": {
     "base_uri": "https://localhost:8080/",
     "height": 283
    },
    "executionInfo": {
     "elapsed": 502,
     "status": "ok",
     "timestamp": 1628304871140,
     "user": {
      "displayName": "orlando belli",
      "photoUrl": "https://lh3.googleusercontent.com/a-/AOh14GjEYipEc8UYvi9I0KWDDIN3LXw_BByHVyiM2iLBKQ=s64",
      "userId": "16331666692442260184"
     },
     "user_tz": 300
    },
    "id": "qbT7Z2JuUcnn",
    "outputId": "9a8e9f11-8f7a-4bfa-c3e1-8cbb3aa02c45"
   },
   "outputs": [
    {
     "data": {
      "text/plain": [
       "[<matplotlib.lines.Line2D at 0x249212b5700>]"
      ]
     },
     "execution_count": 6,
     "metadata": {},
     "output_type": "execute_result"
    },
    {
     "data": {
      "image/png": "[encoded data removed]",
      "text/plain": [
       "<Figure size 432x288 with 1 Axes>"
      ]
     },
     "metadata": {
      "needs_background": "light"
     },
     "output_type": "display_data"
    }
   ],
   "source": [
    "plt.plot(dataset)"
   ]
  },
  {
   "cell_type": "markdown",
   "metadata": {
    "id": "iKLpW2wYuZZQ"
   },
   "source": [
    "MinMaxScaler"
   ]
  },
  {
   "cell_type": "code",
   "execution_count": 7,
   "metadata": {
    "executionInfo": {
     "elapsed": 811,
     "status": "ok",
     "timestamp": 1628304959335,
     "user": {
      "displayName": "orlando belli",
      "photoUrl": "https://lh3.googleusercontent.com/a-/AOh14GjEYipEc8UYvi9I0KWDDIN3LXw_BByHVyiM2iLBKQ=s64",
      "userId": "16331666692442260184"
     },
     "user_tz": 300
    },
    "id": "dmKTbGDxUbNL"
   },
   "outputs": [],
   "source": [
    "# escalando datos\n",
    "from sklearn.preprocessing import MinMaxScaler\n",
    "from sklearn.metrics import mean_squared_error\n",
    "\n",
    "dataset = dataset.astype('float32')\n",
    "scaler = MinMaxScaler(feature_range = (0,1))\n",
    "dataset = scaler.fit_transform(dataset)"
   ]
  },
  {
   "cell_type": "markdown",
   "metadata": {
    "id": "USBK0mrGihSQ"
   },
   "source": [
    "Creando el conjunto de train y test"
   ]
  },
  {
   "cell_type": "code",
   "execution_count": 8,
   "metadata": {
    "executionInfo": {
     "elapsed": 321,
     "status": "ok",
     "timestamp": 1628305041506,
     "user": {
      "displayName": "orlando belli",
      "photoUrl": "https://lh3.googleusercontent.com/a-/AOh14GjEYipEc8UYvi9I0KWDDIN3LXw_BByHVyiM2iLBKQ=s64",
      "userId": "16331666692442260184"
     },
     "user_tz": 300
    },
    "id": "XFHhPt-LUbSu"
   },
   "outputs": [],
   "source": [
    "# train_test_split\n",
    "\n",
    "train_size = int(len(dataset) * 0.80)\n",
    "test_size = len(dataset) - train_size\n",
    "train, test = dataset[0:train_size,:], dataset[train_size:len(dataset),:]"
   ]
  },
  {
   "cell_type": "markdown",
   "metadata": {
    "id": "GbP3GiefjonK"
   },
   "source": [
    "Crear la función para transformar la serie a matriz"
   ]
  },
  {
   "cell_type": "code",
   "execution_count": 9,
   "metadata": {
    "executionInfo": {
     "elapsed": 373,
     "status": "ok",
     "timestamp": 1628305108043,
     "user": {
      "displayName": "orlando belli",
      "photoUrl": "https://lh3.googleusercontent.com/a-/AOh14GjEYipEc8UYvi9I0KWDDIN3LXw_BByHVyiM2iLBKQ=s64",
      "userId": "16331666692442260184"
     },
     "user_tz": 300
    },
    "id": "tkeDG1UwUbXm"
   },
   "outputs": [],
   "source": [
    "def to_sequences(dataset, seq_size = 1):\n",
    "    x=[]\n",
    "    y=[]\n",
    "    \n",
    "    for i in range(len(dataset) - seq_size-1):\n",
    "        window = dataset[i:(i+seq_size),0]\n",
    "        x.append(window)\n",
    "        y.append(dataset[i+seq_size,0])\n",
    "    \n",
    "    return np.array(x),np.array(y)"
   ]
  },
  {
   "cell_type": "markdown",
   "metadata": {
    "id": "zdN1QT2ZxJoO"
   },
   "source": [
    "Convertimos serie a array"
   ]
  },
  {
   "cell_type": "code",
   "execution_count": 10,
   "metadata": {
    "executionInfo": {
     "elapsed": 318,
     "status": "ok",
     "timestamp": 1628305304024,
     "user": {
      "displayName": "orlando belli",
      "photoUrl": "https://lh3.googleusercontent.com/a-/AOh14GjEYipEc8UYvi9I0KWDDIN3LXw_BByHVyiM2iLBKQ=s64",
      "userId": "16331666692442260184"
     },
     "user_tz": 300
    },
    "id": "_W1JgEONUbif"
   },
   "outputs": [],
   "source": [
    "# seq_size = timestep : es el número de columnas X\n",
    "\n",
    "seq_size = 12\n",
    "\n",
    "trainX, trainY = to_sequences(train,seq_size)\n",
    "testX, testY = to_sequences(test,seq_size)"
   ]
  },
  {
   "cell_type": "code",
   "execution_count": 11,
   "metadata": {
    "colab": {
     "base_uri": "https://localhost:8080/"
    },
    "executionInfo": {
     "elapsed": 314,
     "status": "ok",
     "timestamp": 1628305310198,
     "user": {
      "displayName": "orlando belli",
      "photoUrl": "https://lh3.googleusercontent.com/a-/AOh14GjEYipEc8UYvi9I0KWDDIN3LXw_BByHVyiM2iLBKQ=s64",
      "userId": "16331666692442260184"
     },
     "user_tz": 300
    },
    "id": "zAiQldb0xzgP",
    "outputId": "20046e92-9783-49b3-f253-f87dff9722f7"
   },
   "outputs": [
    {
     "name": "stdout",
     "output_type": "stream",
     "text": [
      "(102, 12)\n",
      "(16, 12)\n"
     ]
    }
   ],
   "source": [
    "print(trainX.shape)\n",
    "print(testX.shape)"
   ]
  },
  {
   "cell_type": "markdown",
   "metadata": {
    "id": "hggOLQ-LkG7S"
   },
   "source": [
    "Transformando las tablas 2D a tensores 3D"
   ]
  },
  {
   "cell_type": "code",
   "execution_count": 12,
   "metadata": {
    "colab": {
     "base_uri": "https://localhost:8080/"
    },
    "executionInfo": {
     "elapsed": 389,
     "status": "ok",
     "timestamp": 1628305450001,
     "user": {
      "displayName": "orlando belli",
      "photoUrl": "https://lh3.googleusercontent.com/a-/AOh14GjEYipEc8UYvi9I0KWDDIN3LXw_BByHVyiM2iLBKQ=s64",
      "userId": "16331666692442260184"
     },
     "user_tz": 300
    },
    "id": "JtStIWJXck2D",
    "outputId": "5c9c10b6-c3d0-4846-c945-5b393539e87f"
   },
   "outputs": [
    {
     "name": "stdout",
     "output_type": "stream",
     "text": [
      "(102, 12, 1) (16, 12, 1)\n"
     ]
    }
   ],
   "source": [
    "# redimensionando los inputs para la CNN\n",
    "\n",
    "# reshape from [samples, timesteps] into [samples, timesteps, features]\n",
    "\n",
    "trainX = trainX.reshape((trainX.shape[0], trainX.shape[1], 1))\n",
    "testX = testX.reshape((testX.shape[0], testX.shape[1], 1))\n",
    "\n",
    "print(trainX.shape, testX.shape)"
   ]
  },
  {
   "cell_type": "markdown",
   "metadata": {
    "id": "b9x28VMEkf9v"
   },
   "source": [
    "Creación de la CNN"
   ]
  },
  {
   "cell_type": "code",
   "execution_count": 13,
   "metadata": {
    "executionInfo": {
     "elapsed": 756,
     "status": "ok",
     "timestamp": 1628305568409,
     "user": {
      "displayName": "orlando belli",
      "photoUrl": "https://lh3.googleusercontent.com/a-/AOh14GjEYipEc8UYvi9I0KWDDIN3LXw_BByHVyiM2iLBKQ=s64",
      "userId": "16331666692442260184"
     },
     "user_tz": 300
    },
    "id": "nGQEmaJ0WjlR"
   },
   "outputs": [],
   "source": [
    "# Creando la red neuronal\n",
    "# input_shape (columnas, características)\n",
    "\n",
    "model = Sequential()\n",
    "model.add(Conv1D(64, 2, activation='relu', input_shape=(seq_size, 1)))\n",
    "model.add(MaxPooling1D())\n",
    "model.add(Flatten())\n",
    "model.add(Dense(50, activation='relu'))\n",
    "model.add(Dense(1))\n",
    "model.compile(optimizer='adam', loss='mse')"
   ]
  },
  {
   "cell_type": "markdown",
   "metadata": {
    "id": "SZsXVib3k1Ii"
   },
   "source": [
    "Entrenar la CNN"
   ]
  },
  {
   "cell_type": "code",
   "execution_count": 14,
   "metadata": {
    "colab": {
     "base_uri": "https://localhost:8080/"
    },
    "executionInfo": {
     "elapsed": 20087,
     "status": "ok",
     "timestamp": 1628305662384,
     "user": {
      "displayName": "orlando belli",
      "photoUrl": "https://lh3.googleusercontent.com/a-/AOh14GjEYipEc8UYvi9I0KWDDIN3LXw_BByHVyiM2iLBKQ=s64",
      "userId": "16331666692442260184"
     },
     "user_tz": 300
    },
    "id": "uFgwq5sSWjrD",
    "outputId": "07387831-9c80-4924-cfa7-ecab5350f8fc"
   },
   "outputs": [
    {
     "name": "stdout",
     "output_type": "stream",
     "text": [
      "Epoch 1/100\n",
      "4/4 [==============================] - 0s 30ms/step - loss: 0.0863 - val_loss: 0.1839\n",
      "Epoch 2/100\n",
      "4/4 [==============================] - 0s 5ms/step - loss: 0.0240 - val_loss: 0.0529\n",
      "Epoch 3/100\n",
      "4/4 [==============================] - 0s 3ms/step - loss: 0.0087 - val_loss: 0.0271\n",
      "Epoch 4/100\n",
      "4/4 [==============================] - 0s 4ms/step - loss: 0.0104 - val_loss: 0.0317\n",
      "Epoch 5/100\n",
      "4/4 [==============================] - 0s 4ms/step - loss: 0.0106 - val_loss: 0.0271\n",
      "Epoch 6/100\n",
      "4/4 [==============================] - 0s 3ms/step - loss: 0.0069 - val_loss: 0.0295\n",
      "Epoch 7/100\n",
      "4/4 [==============================] - 0s 4ms/step - loss: 0.0066 - val_loss: 0.0372\n",
      "Epoch 8/100\n",
      "4/4 [==============================] - 0s 4ms/step - loss: 0.0072 - val_loss: 0.0372\n",
      "Epoch 9/100\n",
      "4/4 [==============================] - 0s 3ms/step - loss: 0.0070 - val_loss: 0.0315\n",
      "Epoch 10/100\n",
      "4/4 [==============================] - 0s 3ms/step - loss: 0.0063 - val_loss: 0.0258\n",
      "Epoch 11/100\n",
      "4/4 [==============================] - 0s 4ms/step - loss: 0.0056 - val_loss: 0.0239\n",
      "Epoch 12/100\n",
      "4/4 [==============================] - 0s 4ms/step - loss: 0.0055 - val_loss: 0.0225\n",
      "Epoch 13/100\n",
      "4/4 [==============================] - 0s 2ms/step - loss: 0.0053 - val_loss: 0.0214\n",
      "Epoch 14/100\n",
      "4/4 [==============================] - 0s 5ms/step - loss: 0.0050 - val_loss: 0.0219\n",
      "Epoch 15/100\n",
      "4/4 [==============================] - 0s 4ms/step - loss: 0.0049 - val_loss: 0.0218\n",
      "Epoch 16/100\n",
      "4/4 [==============================] - 0s 4ms/step - loss: 0.0049 - val_loss: 0.0215\n",
      "Epoch 17/100\n",
      "4/4 [==============================] - 0s 3ms/step - loss: 0.0047 - val_loss: 0.0199\n",
      "Epoch 18/100\n",
      "4/4 [==============================] - 0s 3ms/step - loss: 0.0046 - val_loss: 0.0186\n",
      "Epoch 19/100\n",
      "4/4 [==============================] - 0s 4ms/step - loss: 0.0044 - val_loss: 0.0185\n",
      "Epoch 20/100\n",
      "4/4 [==============================] - 0s 3ms/step - loss: 0.0043 - val_loss: 0.0176\n",
      "Epoch 21/100\n",
      "4/4 [==============================] - 0s 4ms/step - loss: 0.0042 - val_loss: 0.0162\n",
      "Epoch 22/100\n",
      "4/4 [==============================] - 0s 4ms/step - loss: 0.0040 - val_loss: 0.0155\n",
      "Epoch 23/100\n",
      "4/4 [==============================] - 0s 4ms/step - loss: 0.0041 - val_loss: 0.0146\n",
      "Epoch 24/100\n",
      "4/4 [==============================] - 0s 3ms/step - loss: 0.0040 - val_loss: 0.0142\n",
      "Epoch 25/100\n",
      "4/4 [==============================] - 0s 4ms/step - loss: 0.0036 - val_loss: 0.0148\n",
      "Epoch 26/100\n",
      "4/4 [==============================] - 0s 4ms/step - loss: 0.0036 - val_loss: 0.0148\n",
      "Epoch 27/100\n",
      "4/4 [==============================] - 0s 3ms/step - loss: 0.0035 - val_loss: 0.0129\n",
      "Epoch 28/100\n",
      "4/4 [==============================] - 0s 4ms/step - loss: 0.0033 - val_loss: 0.0121\n",
      "Epoch 29/100\n",
      "4/4 [==============================] - 0s 4ms/step - loss: 0.0033 - val_loss: 0.0116\n",
      "Epoch 30/100\n",
      "4/4 [==============================] - 0s 4ms/step - loss: 0.0031 - val_loss: 0.0115\n",
      "Epoch 31/100\n",
      "4/4 [==============================] - 0s 3ms/step - loss: 0.0030 - val_loss: 0.0109\n",
      "Epoch 32/100\n",
      "4/4 [==============================] - 0s 3ms/step - loss: 0.0030 - val_loss: 0.0112\n",
      "Epoch 33/100\n",
      "4/4 [==============================] - 0s 3ms/step - loss: 0.0029 - val_loss: 0.0120\n",
      "Epoch 34/100\n",
      "4/4 [==============================] - 0s 4ms/step - loss: 0.0030 - val_loss: 0.0115\n",
      "Epoch 35/100\n",
      "4/4 [==============================] - 0s 5ms/step - loss: 0.0028 - val_loss: 0.0091\n",
      "Epoch 36/100\n",
      "4/4 [==============================] - 0s 4ms/step - loss: 0.0027 - val_loss: 0.0088\n",
      "Epoch 37/100\n",
      "4/4 [==============================] - 0s 4ms/step - loss: 0.0026 - val_loss: 0.0092\n",
      "Epoch 38/100\n",
      "4/4 [==============================] - 0s 4ms/step - loss: 0.0026 - val_loss: 0.0103\n",
      "Epoch 39/100\n",
      "4/4 [==============================] - 0s 4ms/step - loss: 0.0025 - val_loss: 0.0084\n",
      "Epoch 40/100\n",
      "4/4 [==============================] - 0s 3ms/step - loss: 0.0024 - val_loss: 0.0074\n",
      "Epoch 41/100\n",
      "4/4 [==============================] - 0s 3ms/step - loss: 0.0024 - val_loss: 0.0081\n",
      "Epoch 42/100\n",
      "4/4 [==============================] - 0s 3ms/step - loss: 0.0025 - val_loss: 0.0108\n",
      "Epoch 43/100\n",
      "4/4 [==============================] - 0s 4ms/step - loss: 0.0025 - val_loss: 0.0074\n",
      "Epoch 44/100\n",
      "4/4 [==============================] - 0s 3ms/step - loss: 0.0023 - val_loss: 0.0064\n",
      "Epoch 45/100\n",
      "4/4 [==============================] - 0s 5ms/step - loss: 0.0023 - val_loss: 0.0065\n",
      "Epoch 46/100\n",
      "4/4 [==============================] - 0s 3ms/step - loss: 0.0021 - val_loss: 0.0070\n",
      "Epoch 47/100\n",
      "4/4 [==============================] - 0s 4ms/step - loss: 0.0021 - val_loss: 0.0060\n",
      "Epoch 48/100\n",
      "4/4 [==============================] - 0s 4ms/step - loss: 0.0021 - val_loss: 0.0056\n",
      "Epoch 49/100\n",
      "4/4 [==============================] - 0s 3ms/step - loss: 0.0021 - val_loss: 0.0062\n",
      "Epoch 50/100\n",
      "4/4 [==============================] - 0s 3ms/step - loss: 0.0020 - val_loss: 0.0059\n",
      "Epoch 51/100\n",
      "4/4 [==============================] - 0s 4ms/step - loss: 0.0019 - val_loss: 0.0054\n",
      "Epoch 52/100\n",
      "4/4 [==============================] - 0s 4ms/step - loss: 0.0019 - val_loss: 0.0052\n",
      "Epoch 53/100\n",
      "4/4 [==============================] - 0s 4ms/step - loss: 0.0019 - val_loss: 0.0055\n",
      "Epoch 54/100\n",
      "4/4 [==============================] - 0s 3ms/step - loss: 0.0018 - val_loss: 0.0049\n",
      "Epoch 55/100\n",
      "4/4 [==============================] - 0s 4ms/step - loss: 0.0019 - val_loss: 0.0046\n",
      "Epoch 56/100\n",
      "4/4 [==============================] - 0s 4ms/step - loss: 0.0018 - val_loss: 0.0048\n",
      "Epoch 57/100\n",
      "4/4 [==============================] - 0s 4ms/step - loss: 0.0017 - val_loss: 0.0051\n",
      "Epoch 58/100\n",
      "4/4 [==============================] - 0s 3ms/step - loss: 0.0018 - val_loss: 0.0050\n",
      "Epoch 59/100\n",
      "4/4 [==============================] - 0s 3ms/step - loss: 0.0017 - val_loss: 0.0042\n",
      "Epoch 60/100\n",
      "4/4 [==============================] - 0s 4ms/step - loss: 0.0016 - val_loss: 0.0049\n",
      "Epoch 61/100\n",
      "4/4 [==============================] - 0s 3ms/step - loss: 0.0018 - val_loss: 0.0054\n",
      "Epoch 62/100\n",
      "4/4 [==============================] - 0s 4ms/step - loss: 0.0017 - val_loss: 0.0038\n",
      "Epoch 63/100\n",
      "4/4 [==============================] - 0s 4ms/step - loss: 0.0017 - val_loss: 0.0039\n",
      "Epoch 64/100\n",
      "4/4 [==============================] - 0s 4ms/step - loss: 0.0015 - val_loss: 0.0056\n",
      "Epoch 65/100\n",
      "4/4 [==============================] - 0s 3ms/step - loss: 0.0017 - val_loss: 0.0045\n",
      "Epoch 66/100\n",
      "4/4 [==============================] - 0s 4ms/step - loss: 0.0015 - val_loss: 0.0037\n",
      "Epoch 67/100\n",
      "4/4 [==============================] - 0s 4ms/step - loss: 0.0015 - val_loss: 0.0042\n",
      "Epoch 68/100\n",
      "4/4 [==============================] - 0s 4ms/step - loss: 0.0015 - val_loss: 0.0038\n",
      "Epoch 69/100\n",
      "4/4 [==============================] - 0s 4ms/step - loss: 0.0014 - val_loss: 0.0035\n",
      "Epoch 70/100\n",
      "4/4 [==============================] - 0s 3ms/step - loss: 0.0014 - val_loss: 0.0033\n",
      "Epoch 71/100\n",
      "4/4 [==============================] - 0s 3ms/step - loss: 0.0014 - val_loss: 0.0033\n",
      "Epoch 72/100\n",
      "4/4 [==============================] - 0s 3ms/step - loss: 0.0014 - val_loss: 0.0037\n",
      "Epoch 73/100\n",
      "4/4 [==============================] - 0s 3ms/step - loss: 0.0014 - val_loss: 0.0031\n",
      "Epoch 74/100\n",
      "4/4 [==============================] - 0s 4ms/step - loss: 0.0013 - val_loss: 0.0029\n",
      "Epoch 75/100\n",
      "4/4 [==============================] - 0s 5ms/step - loss: 0.0013 - val_loss: 0.0028\n",
      "Epoch 76/100\n",
      "4/4 [==============================] - 0s 4ms/step - loss: 0.0013 - val_loss: 0.0029\n",
      "Epoch 77/100\n",
      "4/4 [==============================] - 0s 4ms/step - loss: 0.0012 - val_loss: 0.0026\n",
      "Epoch 78/100\n",
      "4/4 [==============================] - 0s 4ms/step - loss: 0.0012 - val_loss: 0.0029\n",
      "Epoch 79/100\n",
      "4/4 [==============================] - 0s 4ms/step - loss: 0.0013 - val_loss: 0.0038\n",
      "Epoch 80/100\n",
      "4/4 [==============================] - 0s 4ms/step - loss: 0.0013 - val_loss: 0.0025\n",
      "Epoch 81/100\n",
      "4/4 [==============================] - 0s 3ms/step - loss: 0.0013 - val_loss: 0.0023\n",
      "Epoch 82/100\n",
      "4/4 [==============================] - 0s 4ms/step - loss: 0.0013 - val_loss: 0.0028\n",
      "Epoch 83/100\n",
      "4/4 [==============================] - 0s 4ms/step - loss: 0.0012 - val_loss: 0.0023\n",
      "Epoch 84/100\n",
      "4/4 [==============================] - 0s 4ms/step - loss: 0.0011 - val_loss: 0.0023\n",
      "Epoch 85/100\n",
      "4/4 [==============================] - 0s 4ms/step - loss: 0.0011 - val_loss: 0.0029\n",
      "Epoch 86/100\n",
      "4/4 [==============================] - 0s 4ms/step - loss: 0.0011 - val_loss: 0.0025\n",
      "Epoch 87/100\n",
      "4/4 [==============================] - 0s 3ms/step - loss: 0.0011 - val_loss: 0.0025\n",
      "Epoch 88/100\n",
      "4/4 [==============================] - 0s 4ms/step - loss: 0.0010 - val_loss: 0.0033\n",
      "Epoch 89/100\n",
      "4/4 [==============================] - 0s 4ms/step - loss: 0.0011 - val_loss: 0.0023\n",
      "Epoch 90/100\n",
      "4/4 [==============================] - 0s 3ms/step - loss: 0.0012 - val_loss: 0.0020\n",
      "Epoch 91/100\n",
      "4/4 [==============================] - 0s 3ms/step - loss: 0.0010 - val_loss: 0.0028\n",
      "Epoch 92/100\n",
      "4/4 [==============================] - 0s 3ms/step - loss: 0.0011 - val_loss: 0.0020\n",
      "Epoch 93/100\n",
      "4/4 [==============================] - 0s 3ms/step - loss: 0.0010 - val_loss: 0.0020\n",
      "Epoch 94/100\n",
      "4/4 [==============================] - 0s 4ms/step - loss: 0.0010 - val_loss: 0.0027\n",
      "Epoch 95/100\n",
      "4/4 [==============================] - 0s 4ms/step - loss: 0.0010 - val_loss: 0.0023\n",
      "Epoch 96/100\n",
      "4/4 [==============================] - 0s 3ms/step - loss: 9.8081e-04 - val_loss: 0.0019\n",
      "Epoch 97/100\n",
      "4/4 [==============================] - 0s 4ms/step - loss: 9.8147e-04 - val_loss: 0.0026\n",
      "Epoch 98/100\n",
      "4/4 [==============================] - 0s 4ms/step - loss: 9.7114e-04 - val_loss: 0.0020\n",
      "Epoch 99/100\n",
      "4/4 [==============================] - 0s 4ms/step - loss: 0.0010 - val_loss: 0.0016\n",
      "Epoch 100/100\n",
      "4/4 [==============================] - 0s 4ms/step - loss: 9.7947e-04 - val_loss: 0.0022\n"
     ]
    }
   ],
   "source": [
    "EPOCHS = 100\n",
    "\n",
    "history = model.fit(trainX,trainY,epochs = EPOCHS,validation_data = (testX,testY), verbose = 1)"
   ]
  },
  {
   "cell_type": "code",
   "execution_count": 15,
   "metadata": {
    "colab": {
     "base_uri": "https://localhost:8080/",
     "height": 313
    },
    "executionInfo": {
     "elapsed": 352,
     "status": "ok",
     "timestamp": 1628305771852,
     "user": {
      "displayName": "orlando belli",
      "photoUrl": "https://lh3.googleusercontent.com/a-/AOh14GjEYipEc8UYvi9I0KWDDIN3LXw_BByHVyiM2iLBKQ=s64",
      "userId": "16331666692442260184"
     },
     "user_tz": 300
    },
    "id": "y1zcGRSFhA45",
    "outputId": "f6c15726-d166-4eae-8b22-5d0146cb3b46"
   },
   "outputs": [
    {
     "data": {
      "text/plain": [
       "Text(0.5, 1.0, 'ECM vs. epochs')"
      ]
     },
     "execution_count": 15,
     "metadata": {},
     "output_type": "execute_result"
    },
    {
     "data": {
      "image/png": "[encoded data removed]",
      "text/plain": [
       "<Figure size 432x288 with 1 Axes>"
      ]
     },
     "metadata": {
      "needs_background": "light"
     },
     "output_type": "display_data"
    }
   ],
   "source": [
    "# ECM error cuadrático medio\n",
    "\n",
    "plt.plot(history.history['loss'],color = 'r',label = 'train_mse')\n",
    "plt.plot(history.history['val_loss'],label = 'test_mse')\n",
    "plt.xlabel('epoch')\n",
    "plt.ylabel('ECM')\n",
    "plt.legend(loc = 'best')\n",
    "plt.title('ECM vs. epochs')"
   ]
  },
  {
   "cell_type": "code",
   "execution_count": 16,
   "metadata": {
    "executionInfo": {
     "elapsed": 794,
     "status": "ok",
     "timestamp": 1628305950344,
     "user": {
      "displayName": "orlando belli",
      "photoUrl": "https://lh3.googleusercontent.com/a-/AOh14GjEYipEc8UYvi9I0KWDDIN3LXw_BByHVyiM2iLBKQ=s64",
      "userId": "16331666692442260184"
     },
     "user_tz": 300
    },
    "id": "ccG1wwDKh2rr"
   },
   "outputs": [],
   "source": [
    "# predicciones\n",
    "\n",
    "trainPredict = model.predict(trainX)\n",
    "testPredict = model.predict(testX)\n",
    "\n",
    "trainPredict = scaler.inverse_transform(trainPredict)\n",
    "trainY_inverse = scaler.inverse_transform([trainY])\n",
    "testPredict = scaler.inverse_transform(testPredict)\n",
    "testY_inverse = scaler.inverse_transform([testY])"
   ]
  },
  {
   "cell_type": "code",
   "execution_count": 17,
   "metadata": {
    "executionInfo": {
     "elapsed": 297,
     "status": "ok",
     "timestamp": 1628305960991,
     "user": {
      "displayName": "orlando belli",
      "photoUrl": "https://lh3.googleusercontent.com/a-/AOh14GjEYipEc8UYvi9I0KWDDIN3LXw_BByHVyiM2iLBKQ=s64",
      "userId": "16331666692442260184"
     },
     "user_tz": 300
    },
    "id": "fRRAD7WKXbLi"
   },
   "outputs": [],
   "source": [
    "# preparando data para el plot\n",
    "\n",
    "trainPredictPlot = np.empty_like(dataset)\n",
    "trainPredictPlot[:,:] = np.nan\n",
    "trainPredictPlot[seq_size:len(trainPredict)+seq_size,:] = trainPredict\n",
    "\n",
    "# shift test predictions \n",
    "testPredictPlot = np.empty_like(dataset)\n",
    "testPredictPlot[:,:] = np.nan\n",
    "testPredictPlot[len(trainPredict)+(seq_size*2)+1:len(dataset)-1:] = testPredict"
   ]
  },
  {
   "cell_type": "code",
   "execution_count": 18,
   "metadata": {
    "colab": {
     "base_uri": "https://localhost:8080/",
     "height": 337
    },
    "executionInfo": {
     "elapsed": 578,
     "status": "ok",
     "timestamp": 1628306060198,
     "user": {
      "displayName": "orlando belli",
      "photoUrl": "https://lh3.googleusercontent.com/a-/AOh14GjEYipEc8UYvi9I0KWDDIN3LXw_BByHVyiM2iLBKQ=s64",
      "userId": "16331666692442260184"
     },
     "user_tz": 300
    },
    "id": "wH2fRKZx3NPr",
    "outputId": "cfffeeca-5e4c-40b0-813b-4844cadb497c"
   },
   "outputs": [
    {
     "data": {
      "text/plain": [
       "<function matplotlib.pyplot.show(close=None, block=None)>"
      ]
     },
     "execution_count": 18,
     "metadata": {},
     "output_type": "execute_result"
    },
    {
     "data": {
      "image/png": "[encoded data removed]",
      "text/plain": [
       "<Figure size 1152x360 with 1 Axes>"
      ]
     },
     "metadata": {
      "needs_background": "light"
     },
     "output_type": "display_data"
    }
   ],
   "source": [
    "# ploteando predicciones\n",
    "\n",
    "plt.figure(figsize = (16,5))\n",
    "\n",
    "plt.plot(scaler.inverse_transform(dataset), label = 'data_real')\n",
    "plt.plot(trainPredictPlot, label = 'data_train')\n",
    "plt.plot(testPredictPlot, label = 'data_test')\n",
    "plt.legend(loc = 'best')\n",
    "plt.grid()\n",
    "plt.show"
   ]
  },
  {
   "cell_type": "markdown",
   "metadata": {
    "id": "niSJV7DXCum6"
   },
   "source": [
    "Pronóstico"
   ]
  },
  {
   "cell_type": "code",
   "execution_count": 19,
   "metadata": {
    "colab": {
     "base_uri": "https://localhost:8080/"
    },
    "executionInfo": {
     "elapsed": 307,
     "status": "ok",
     "timestamp": 1628306152696,
     "user": {
      "displayName": "orlando belli",
      "photoUrl": "https://lh3.googleusercontent.com/a-/AOh14GjEYipEc8UYvi9I0KWDDIN3LXw_BByHVyiM2iLBKQ=s64",
      "userId": "16331666692442260184"
     },
     "user_tz": 300
    },
    "id": "AD5lhriU_s36",
    "outputId": "677740d3-7318-43ff-d710-622fb74b1c9c"
   },
   "outputs": [
    {
     "data": {
      "text/plain": [
       "(16, 12, 1)"
      ]
     },
     "execution_count": 19,
     "metadata": {},
     "output_type": "execute_result"
    }
   ],
   "source": [
    "# data de test\n",
    "\n",
    "testX.shape"
   ]
  },
  {
   "cell_type": "code",
   "execution_count": 20,
   "metadata": {
    "colab": {
     "base_uri": "https://localhost:8080/"
    },
    "executionInfo": {
     "elapsed": 303,
     "status": "ok",
     "timestamp": 1628306526306,
     "user": {
      "displayName": "orlando belli",
      "photoUrl": "https://lh3.googleusercontent.com/a-/AOh14GjEYipEc8UYvi9I0KWDDIN3LXw_BByHVyiM2iLBKQ=s64",
      "userId": "16331666692442260184"
     },
     "user_tz": 300
    },
    "id": "pXyDg_dV_v6u",
    "outputId": "7452dee2-3bb2-4675-cb01-cbcb4fe927aa"
   },
   "outputs": [
    {
     "data": {
      "text/plain": [
       "(1, 12)"
      ]
     },
     "execution_count": 20,
     "metadata": {},
     "output_type": "execute_result"
    }
   ],
   "source": [
    "# el último registro de la data de test\n",
    "\n",
    "testX, testY = to_sequences(test,seq_size)\n",
    "testX = testX[-1,:].reshape(-1,seq_size)\n",
    "testX.shape"
   ]
  },
  {
   "cell_type": "code",
   "execution_count": 21,
   "metadata": {
    "colab": {
     "base_uri": "https://localhost:8080/"
    },
    "executionInfo": {
     "elapsed": 300,
     "status": "ok",
     "timestamp": 1628306537700,
     "user": {
      "displayName": "orlando belli",
      "photoUrl": "https://lh3.googleusercontent.com/a-/AOh14GjEYipEc8UYvi9I0KWDDIN3LXw_BByHVyiM2iLBKQ=s64",
      "userId": "16331666692442260184"
     },
     "user_tz": 300
    },
    "id": "gWE3Rsdl_1Hb",
    "outputId": "20a7d466-779d-4084-d37e-b475b15c6d56"
   },
   "outputs": [
    {
     "data": {
      "text/plain": [
       "(1, 12, 1)"
      ]
     },
     "execution_count": 21,
     "metadata": {},
     "output_type": "execute_result"
    }
   ],
   "source": [
    "# convierto a tensor 3D\n",
    "\n",
    "x_test = testX.reshape((testX.shape[0], testX.shape[1],1))\n",
    "x_test.shape"
   ]
  },
  {
   "cell_type": "code",
   "execution_count": 22,
   "metadata": {
    "colab": {
     "base_uri": "https://localhost:8080/"
    },
    "executionInfo": {
     "elapsed": 1370,
     "status": "ok",
     "timestamp": 1628306649995,
     "user": {
      "displayName": "orlando belli",
      "photoUrl": "https://lh3.googleusercontent.com/a-/AOh14GjEYipEc8UYvi9I0KWDDIN3LXw_BByHVyiM2iLBKQ=s64",
      "userId": "16331666692442260184"
     },
     "user_tz": 300
    },
    "id": "RWqsgCGg_7eu",
    "outputId": "7fdbb227-16d4-4850-d0dc-25b31efa52d0"
   },
   "outputs": [
    {
     "name": "stdout",
     "output_type": "stream",
     "text": [
      "[[[0.4980695 ]\n",
      "  [0.58108103]\n",
      "  [0.6042471 ]\n",
      "  [0.554054  ]\n",
      "  [0.60810804]\n",
      "  [0.6891892 ]\n",
      "  [0.71042466]\n",
      "  [0.8320464 ]\n",
      "  [1.        ]\n",
      "  [0.96911204]\n",
      "  [0.7799227 ]\n",
      "  [0.6891892 ]]]\n",
      "[[[0.58108103]\n",
      "  [0.6042471 ]\n",
      "  [0.554054  ]\n",
      "  [0.60810804]\n",
      "  [0.6891892 ]\n",
      "  [0.71042466]\n",
      "  [0.8320464 ]\n",
      "  [1.        ]\n",
      "  [0.96911204]\n",
      "  [0.7799227 ]\n",
      "  [0.6891892 ]\n",
      "  [0.59700805]]]\n",
      "[[[0.6042471 ]\n",
      "  [0.554054  ]\n",
      "  [0.60810804]\n",
      "  [0.6891892 ]\n",
      "  [0.71042466]\n",
      "  [0.8320464 ]\n",
      "  [1.        ]\n",
      "  [0.96911204]\n",
      "  [0.7799227 ]\n",
      "  [0.6891892 ]\n",
      "  [0.59700805]\n",
      "  [0.6247281 ]]]\n",
      "[[[0.554054  ]\n",
      "  [0.60810804]\n",
      "  [0.6891892 ]\n",
      "  [0.71042466]\n",
      "  [0.8320464 ]\n",
      "  [1.        ]\n",
      "  [0.96911204]\n",
      "  [0.7799227 ]\n",
      "  [0.6891892 ]\n",
      "  [0.59700805]\n",
      "  [0.6247281 ]\n",
      "  [0.6289017 ]]]\n",
      "[[[0.60810804]\n",
      "  [0.6891892 ]\n",
      "  [0.71042466]\n",
      "  [0.8320464 ]\n",
      "  [1.        ]\n",
      "  [0.96911204]\n",
      "  [0.7799227 ]\n",
      "  [0.6891892 ]\n",
      "  [0.59700805]\n",
      "  [0.6247281 ]\n",
      "  [0.6289017 ]\n",
      "  [0.60752225]]]\n",
      "[[[0.6891892 ]\n",
      "  [0.71042466]\n",
      "  [0.8320464 ]\n",
      "  [1.        ]\n",
      "  [0.96911204]\n",
      "  [0.7799227 ]\n",
      "  [0.6891892 ]\n",
      "  [0.59700805]\n",
      "  [0.6247281 ]\n",
      "  [0.6289017 ]\n",
      "  [0.60752225]\n",
      "  [0.6568313 ]]]\n",
      "[[[0.71042466]\n",
      "  [0.8320464 ]\n",
      "  [1.        ]\n",
      "  [0.96911204]\n",
      "  [0.7799227 ]\n",
      "  [0.6891892 ]\n",
      "  [0.59700805]\n",
      "  [0.6247281 ]\n",
      "  [0.6289017 ]\n",
      "  [0.60752225]\n",
      "  [0.6568313 ]\n",
      "  [0.69980025]]]\n",
      "[[[0.8320464 ]\n",
      "  [1.        ]\n",
      "  [0.96911204]\n",
      "  [0.7799227 ]\n",
      "  [0.6891892 ]\n",
      "  [0.59700805]\n",
      "  [0.6247281 ]\n",
      "  [0.6289017 ]\n",
      "  [0.60752225]\n",
      "  [0.6568313 ]\n",
      "  [0.69980025]\n",
      "  [0.8001916 ]]]\n",
      "[[[1.        ]\n",
      "  [0.96911204]\n",
      "  [0.7799227 ]\n",
      "  [0.6891892 ]\n",
      "  [0.59700805]\n",
      "  [0.6247281 ]\n",
      "  [0.6289017 ]\n",
      "  [0.60752225]\n",
      "  [0.6568313 ]\n",
      "  [0.69980025]\n",
      "  [0.8001916 ]\n",
      "  [0.96419   ]]]\n",
      "[[[0.96911204]\n",
      "  [0.7799227 ]\n",
      "  [0.6891892 ]\n",
      "  [0.59700805]\n",
      "  [0.6247281 ]\n",
      "  [0.6289017 ]\n",
      "  [0.60752225]\n",
      "  [0.6568313 ]\n",
      "  [0.69980025]\n",
      "  [0.8001916 ]\n",
      "  [0.96419   ]\n",
      "  [1.0500247 ]]]\n",
      "[[[0.7799227 ]\n",
      "  [0.6891892 ]\n",
      "  [0.59700805]\n",
      "  [0.6247281 ]\n",
      "  [0.6289017 ]\n",
      "  [0.60752225]\n",
      "  [0.6568313 ]\n",
      "  [0.69980025]\n",
      "  [0.8001916 ]\n",
      "  [0.96419   ]\n",
      "  [1.0500247 ]\n",
      "  [1.0204815 ]]]\n",
      "[[[0.6891892 ]\n",
      "  [0.59700805]\n",
      "  [0.6247281 ]\n",
      "  [0.6289017 ]\n",
      "  [0.60752225]\n",
      "  [0.6568313 ]\n",
      "  [0.69980025]\n",
      "  [0.8001916 ]\n",
      "  [0.96419   ]\n",
      "  [1.0500247 ]\n",
      "  [1.0204815 ]\n",
      "  [0.87146103]]]\n",
      "[[[0.59700805]\n",
      "  [0.6247281 ]\n",
      "  [0.6289017 ]\n",
      "  [0.60752225]\n",
      "  [0.6568313 ]\n",
      "  [0.69980025]\n",
      "  [0.8001916 ]\n",
      "  [0.96419   ]\n",
      "  [1.0500247 ]\n",
      "  [1.0204815 ]\n",
      "  [0.87146103]\n",
      "  [0.74435884]]]\n",
      "[[[0.6247281 ]\n",
      "  [0.6289017 ]\n",
      "  [0.60752225]\n",
      "  [0.6568313 ]\n",
      "  [0.69980025]\n",
      "  [0.8001916 ]\n",
      "  [0.96419   ]\n",
      "  [1.0500247 ]\n",
      "  [1.0204815 ]\n",
      "  [0.87146103]\n",
      "  [0.74435884]\n",
      "  [0.6663137 ]]]\n",
      "[[[0.6289017 ]\n",
      "  [0.60752225]\n",
      "  [0.6568313 ]\n",
      "  [0.69980025]\n",
      "  [0.8001916 ]\n",
      "  [0.96419   ]\n",
      "  [1.0500247 ]\n",
      "  [1.0204815 ]\n",
      "  [0.87146103]\n",
      "  [0.74435884]\n",
      "  [0.6663137 ]\n",
      "  [0.6683695 ]]]\n",
      "[[[0.60752225]\n",
      "  [0.6568313 ]\n",
      "  [0.69980025]\n",
      "  [0.8001916 ]\n",
      "  [0.96419   ]\n",
      "  [1.0500247 ]\n",
      "  [1.0204815 ]\n",
      "  [0.87146103]\n",
      "  [0.74435884]\n",
      "  [0.6663137 ]\n",
      "  [0.6683695 ]\n",
      "  [0.6464143 ]]]\n",
      "[[[0.6568313 ]\n",
      "  [0.69980025]\n",
      "  [0.8001916 ]\n",
      "  [0.96419   ]\n",
      "  [1.0500247 ]\n",
      "  [1.0204815 ]\n",
      "  [0.87146103]\n",
      "  [0.74435884]\n",
      "  [0.6663137 ]\n",
      "  [0.6683695 ]\n",
      "  [0.6464143 ]\n",
      "  [0.6477817 ]]]\n",
      "[[[0.69980025]\n",
      "  [0.8001916 ]\n",
      "  [0.96419   ]\n",
      "  [1.0500247 ]\n",
      "  [1.0204815 ]\n",
      "  [0.87146103]\n",
      "  [0.74435884]\n",
      "  [0.6663137 ]\n",
      "  [0.6683695 ]\n",
      "  [0.6464143 ]\n",
      "  [0.6477817 ]\n",
      "  [0.68696207]]]\n",
      "[[[0.8001916 ]\n",
      "  [0.96419   ]\n",
      "  [1.0500247 ]\n",
      "  [1.0204815 ]\n",
      "  [0.87146103]\n",
      "  [0.74435884]\n",
      "  [0.6663137 ]\n",
      "  [0.6683695 ]\n",
      "  [0.6464143 ]\n",
      "  [0.6477817 ]\n",
      "  [0.68696207]\n",
      "  [0.76084363]]]\n",
      "[[[0.96419   ]\n",
      "  [1.0500247 ]\n",
      "  [1.0204815 ]\n",
      "  [0.87146103]\n",
      "  [0.74435884]\n",
      "  [0.6663137 ]\n",
      "  [0.6683695 ]\n",
      "  [0.6464143 ]\n",
      "  [0.6477817 ]\n",
      "  [0.68696207]\n",
      "  [0.76084363]\n",
      "  [0.89929265]]]\n",
      "[[[1.0500247 ]\n",
      "  [1.0204815 ]\n",
      "  [0.87146103]\n",
      "  [0.74435884]\n",
      "  [0.6663137 ]\n",
      "  [0.6683695 ]\n",
      "  [0.6464143 ]\n",
      "  [0.6477817 ]\n",
      "  [0.68696207]\n",
      "  [0.76084363]\n",
      "  [0.89929265]\n",
      "  [1.0222682 ]]]\n",
      "[[[1.0204815 ]\n",
      "  [0.87146103]\n",
      "  [0.74435884]\n",
      "  [0.6663137 ]\n",
      "  [0.6683695 ]\n",
      "  [0.6464143 ]\n",
      "  [0.6477817 ]\n",
      "  [0.68696207]\n",
      "  [0.76084363]\n",
      "  [0.89929265]\n",
      "  [1.0222682 ]\n",
      "  [1.0977763 ]]]\n",
      "[[[0.87146103]\n",
      "  [0.74435884]\n",
      "  [0.6663137 ]\n",
      "  [0.6683695 ]\n",
      "  [0.6464143 ]\n",
      "  [0.6477817 ]\n",
      "  [0.68696207]\n",
      "  [0.76084363]\n",
      "  [0.89929265]\n",
      "  [1.0222682 ]\n",
      "  [1.0977763 ]\n",
      "  [1.074292  ]]]\n",
      "[[[0.74435884]\n",
      "  [0.6663137 ]\n",
      "  [0.6683695 ]\n",
      "  [0.6464143 ]\n",
      "  [0.6477817 ]\n",
      "  [0.68696207]\n",
      "  [0.76084363]\n",
      "  [0.89929265]\n",
      "  [1.0222682 ]\n",
      "  [1.0977763 ]\n",
      "  [1.074292  ]\n",
      "  [0.9471033 ]]]\n"
     ]
    }
   ],
   "source": [
    "# con esto lleno la matriz para seguir calculando los puntos futuros\n",
    "# mover la variable pron que indica el número de puntos a pronosticar\n",
    "\n",
    "pron = 24\n",
    "\n",
    "def agregarNuevoValor(x_test,nuevoValor):\n",
    "    for i in range(x_test.shape[1]-1):\n",
    "        x_test[0][i][0] = x_test[0][i+1][0]\n",
    "    x_test[0][x_test.shape[1]-1][0] = nuevoValor\n",
    "    return x_test\n",
    "\n",
    "results = []\n",
    "for i in range(pron):\n",
    "    parcial = model.predict(x_test)\n",
    "    results.append(parcial[0])\n",
    "    print(x_test)\n",
    "    x_test = agregarNuevoValor(x_test,parcial[0])"
   ]
  },
  {
   "cell_type": "markdown",
   "metadata": {
    "id": "V6lAF4q3pCV8"
   },
   "source": [
    "Volviendo al valor original"
   ]
  },
  {
   "cell_type": "code",
   "execution_count": 23,
   "metadata": {
    "colab": {
     "base_uri": "https://localhost:8080/"
    },
    "executionInfo": {
     "elapsed": 295,
     "status": "ok",
     "timestamp": 1628306689572,
     "user": {
      "displayName": "orlando belli",
      "photoUrl": "https://lh3.googleusercontent.com/a-/AOh14GjEYipEc8UYvi9I0KWDDIN3LXw_BByHVyiM2iLBKQ=s64",
      "userId": "16331666692442260184"
     },
     "user_tz": 300
    },
    "id": "BAu3J6HbAAtQ",
    "outputId": "a0312487-7167-4c0b-88bb-856c5c9f1e8a"
   },
   "outputs": [
    {
     "data": {
      "text/plain": [
       "array([[413.25017498],\n",
       "       [427.60915293],\n",
       "       [429.77109665],\n",
       "       [418.69653055],\n",
       "       [444.23863182],\n",
       "       [466.49653736],\n",
       "       [518.49924642],\n",
       "       [603.45043218],\n",
       "       [647.91282916],\n",
       "       [632.60940952],\n",
       "       [555.41682355],\n",
       "       [489.57788467],\n",
       "       [449.15050668],\n",
       "       [450.21539256],\n",
       "       [438.84260284],\n",
       "       [439.55094183],\n",
       "       [459.84635749],\n",
       "       [498.11700968],\n",
       "       [569.83359988],\n",
       "       [633.53492471],\n",
       "       [672.64813041],\n",
       "       [660.48323727],\n",
       "       [594.59952933],\n",
       "       [522.41027059]])"
      ]
     },
     "execution_count": 23,
     "metadata": {},
     "output_type": "execute_result"
    }
   ],
   "source": [
    "# valores inversos al escalado\n",
    "\n",
    "adimen = [x for x in results]    \n",
    "inverted = scaler.inverse_transform(adimen)\n",
    "inverted"
   ]
  },
  {
   "cell_type": "code",
   "execution_count": 24,
   "metadata": {
    "colab": {
     "base_uri": "https://localhost:8080/",
     "height": 237
    },
    "executionInfo": {
     "elapsed": 296,
     "status": "ok",
     "timestamp": 1628306697256,
     "user": {
      "displayName": "orlando belli",
      "photoUrl": "https://lh3.googleusercontent.com/a-/AOh14GjEYipEc8UYvi9I0KWDDIN3LXw_BByHVyiM2iLBKQ=s64",
      "userId": "16331666692442260184"
     },
     "user_tz": 300
    },
    "id": "7WK35o_1AG07",
    "outputId": "b06958c4-984f-4510-cc01-70c8739ee91e"
   },
   "outputs": [
    {
     "data": {
      "text/html": [
       "<div>\n",
       "<style scoped>\n",
       "    .dataframe tbody tr th:only-of-type {\n",
       "        vertical-align: middle;\n",
       "    }\n",
       "\n",
       "    .dataframe tbody tr th {\n",
       "        vertical-align: top;\n",
       "    }\n",
       "\n",
       "    .dataframe thead th {\n",
       "        text-align: right;\n",
       "    }\n",
       "</style>\n",
       "<table border=\"1\" class=\"dataframe\">\n",
       "  <thead>\n",
       "    <tr style=\"text-align: right;\">\n",
       "      <th></th>\n",
       "      <th>#Passengers</th>\n",
       "    </tr>\n",
       "    <tr>\n",
       "      <th>Month</th>\n",
       "      <th></th>\n",
       "    </tr>\n",
       "  </thead>\n",
       "  <tbody>\n",
       "    <tr>\n",
       "      <th>1949-01</th>\n",
       "      <td>112</td>\n",
       "    </tr>\n",
       "    <tr>\n",
       "      <th>1949-02</th>\n",
       "      <td>118</td>\n",
       "    </tr>\n",
       "    <tr>\n",
       "      <th>1949-03</th>\n",
       "      <td>132</td>\n",
       "    </tr>\n",
       "    <tr>\n",
       "      <th>1949-04</th>\n",
       "      <td>129</td>\n",
       "    </tr>\n",
       "    <tr>\n",
       "      <th>1949-05</th>\n",
       "      <td>121</td>\n",
       "    </tr>\n",
       "  </tbody>\n",
       "</table>\n",
       "</div>"
      ],
      "text/plain": [
       "         #Passengers\n",
       "Month               \n",
       "1949-01          112\n",
       "1949-02          118\n",
       "1949-03          132\n",
       "1949-04          129\n",
       "1949-05          121"
      ]
     },
     "execution_count": 24,
     "metadata": {},
     "output_type": "execute_result"
    }
   ],
   "source": [
    "# concatenar df\n",
    "\n",
    "df.head()"
   ]
  },
  {
   "cell_type": "code",
   "execution_count": 25,
   "metadata": {
    "colab": {
     "base_uri": "https://localhost:8080/"
    },
    "executionInfo": {
     "elapsed": 321,
     "status": "ok",
     "timestamp": 1628306703067,
     "user": {
      "displayName": "orlando belli",
      "photoUrl": "https://lh3.googleusercontent.com/a-/AOh14GjEYipEc8UYvi9I0KWDDIN3LXw_BByHVyiM2iLBKQ=s64",
      "userId": "16331666692442260184"
     },
     "user_tz": 300
    },
    "id": "GXh5LZgbARam",
    "outputId": "c6faeb39-8027-4384-f10c-61076f421d6e"
   },
   "outputs": [
    {
     "data": {
      "text/plain": [
       "24"
      ]
     },
     "execution_count": 25,
     "metadata": {},
     "output_type": "execute_result"
    }
   ],
   "source": [
    "y_pred = pd.DataFrame(inverted)\n",
    "len(y_pred)"
   ]
  },
  {
   "cell_type": "code",
   "execution_count": 26,
   "metadata": {
    "colab": {
     "base_uri": "https://localhost:8080/",
     "height": 337
    },
    "executionInfo": {
     "elapsed": 443,
     "status": "ok",
     "timestamp": 1628306705988,
     "user": {
      "displayName": "orlando belli",
      "photoUrl": "https://lh3.googleusercontent.com/a-/AOh14GjEYipEc8UYvi9I0KWDDIN3LXw_BByHVyiM2iLBKQ=s64",
      "userId": "16331666692442260184"
     },
     "user_tz": 300
    },
    "id": "L8oS8k2DAn4N",
    "outputId": "7c11075f-b2e4-4ff5-99c9-2309a5c02943"
   },
   "outputs": [
    {
     "data": {
      "text/plain": [
       "<AxesSubplot:>"
      ]
     },
     "execution_count": 26,
     "metadata": {},
     "output_type": "execute_result"
    },
    {
     "data": {
      "image/png": "[encoded data removed]",
      "text/plain": [
       "<Figure size 1152x360 with 1 Axes>"
      ]
     },
     "metadata": {
      "needs_background": "light"
     },
     "output_type": "display_data"
    }
   ],
   "source": [
    "df2 = pd.concat([df,y_pred])\n",
    "df2.plot(figsize=(16,5))"
   ]
  },
  {
   "cell_type": "code",
   "execution_count": 29,
   "metadata": {
    "id": "6GjvRqN5Au2N"
   },
   "outputs": [
    {
     "data": {
      "text/html": [
       "<div>\n",
       "<style scoped>\n",
       "    .dataframe tbody tr th:only-of-type {\n",
       "        vertical-align: middle;\n",
       "    }\n",
       "\n",
       "    .dataframe tbody tr th {\n",
       "        vertical-align: top;\n",
       "    }\n",
       "\n",
       "    .dataframe thead th {\n",
       "        text-align: right;\n",
       "    }\n",
       "</style>\n",
       "<table border=\"1\" class=\"dataframe\">\n",
       "  <thead>\n",
       "    <tr style=\"text-align: right;\">\n",
       "      <th></th>\n",
       "      <th>#Passengers</th>\n",
       "      <th>0</th>\n",
       "    </tr>\n",
       "  </thead>\n",
       "  <tbody>\n",
       "    <tr>\n",
       "      <th>1949-01</th>\n",
       "      <td>112.0</td>\n",
       "      <td>NaN</td>\n",
       "    </tr>\n",
       "    <tr>\n",
       "      <th>1949-02</th>\n",
       "      <td>118.0</td>\n",
       "      <td>NaN</td>\n",
       "    </tr>\n",
       "    <tr>\n",
       "      <th>1949-03</th>\n",
       "      <td>132.0</td>\n",
       "      <td>NaN</td>\n",
       "    </tr>\n",
       "    <tr>\n",
       "      <th>1949-04</th>\n",
       "      <td>129.0</td>\n",
       "      <td>NaN</td>\n",
       "    </tr>\n",
       "    <tr>\n",
       "      <th>1949-05</th>\n",
       "      <td>121.0</td>\n",
       "      <td>NaN</td>\n",
       "    </tr>\n",
       "    <tr>\n",
       "      <th>...</th>\n",
       "      <td>...</td>\n",
       "      <td>...</td>\n",
       "    </tr>\n",
       "    <tr>\n",
       "      <th>19</th>\n",
       "      <td>NaN</td>\n",
       "      <td>633.534925</td>\n",
       "    </tr>\n",
       "    <tr>\n",
       "      <th>20</th>\n",
       "      <td>NaN</td>\n",
       "      <td>672.648130</td>\n",
       "    </tr>\n",
       "    <tr>\n",
       "      <th>21</th>\n",
       "      <td>NaN</td>\n",
       "      <td>660.483237</td>\n",
       "    </tr>\n",
       "    <tr>\n",
       "      <th>22</th>\n",
       "      <td>NaN</td>\n",
       "      <td>594.599529</td>\n",
       "    </tr>\n",
       "    <tr>\n",
       "      <th>23</th>\n",
       "      <td>NaN</td>\n",
       "      <td>522.410271</td>\n",
       "    </tr>\n",
       "  </tbody>\n",
       "</table>\n",
       "<p>168 rows × 2 columns</p>\n",
       "</div>"
      ],
      "text/plain": [
       "         #Passengers           0\n",
       "1949-01        112.0         NaN\n",
       "1949-02        118.0         NaN\n",
       "1949-03        132.0         NaN\n",
       "1949-04        129.0         NaN\n",
       "1949-05        121.0         NaN\n",
       "...              ...         ...\n",
       "19               NaN  633.534925\n",
       "20               NaN  672.648130\n",
       "21               NaN  660.483237\n",
       "22               NaN  594.599529\n",
       "23               NaN  522.410271\n",
       "\n",
       "[168 rows x 2 columns]"
      ]
     },
     "execution_count": 29,
     "metadata": {},
     "output_type": "execute_result"
    }
   ],
   "source": [
    "df2"
   ]
  },
  {
   "cell_type": "code",
   "execution_count": 30,
   "metadata": {},
   "outputs": [],
   "source": [
    "df2.to_excel('datasalida1.xlsx')"
   ]
  },
  {
   "cell_type": "code",
   "execution_count": null,
   "metadata": {},
   "outputs": [],
   "source": []
  }
 ],
 "metadata": {
  "colab": {
   "authorship_tag": "ABX9TyPHnKy0el2na+TUmIswOkUE",
   "collapsed_sections": [],
   "mount_file_id": "16-DvbBfklnx9F3x7dcSMVdXxkmaZUosg",
   "name": "2 Forecast  airline con CNN.ipynb",
   "provenance": []
  },
  "kernelspec": {
   "display_name": "Python 3 (ipykernel)",
   "language": "python",
   "name": "python3"
  },
  "language_info": {
   "codemirror_mode": {
    "name": "ipython",
    "version": 3
   },
   "file_extension": ".py",
   "mimetype": "text/x-python",
   "name": "python",
   "nbconvert_exporter": "python",
   "pygments_lexer": "ipython3",
   "version": "3.8.8"
  }
 },
 "nbformat": 4,
 "nbformat_minor": 1
}
